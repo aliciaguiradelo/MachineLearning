{
  "nbformat": 4,
  "nbformat_minor": 0,
  "metadata": {
    "colab": {
      "provenance": []
    },
    "kernelspec": {
      "name": "python3",
      "display_name": "Python 3"
    },
    "language_info": {
      "name": "python"
    }
  },
  "cells": [
    {
      "cell_type": "markdown",
      "source": [
        "**Objetivo da atividade:**\n",
        "\n",
        "Utilizando o dataset \"Mall Customers\", disponível em https://www.kaggle.com/datasets/kandij/mall-customers, agrupar os clientes com base nas características de receita anual (Annual Income (k$)) e pontuação de gastos (Spending Score).\n",
        "\n",
        "**EXERCÍCIO 01**\n",
        "- Determine o valor ideal de k, com base no método Elbow.\n",
        "- Treine o modelo e avalie a qualidade dos clusters, utilizando a métrica Silhoutte Score."
      ],
      "metadata": {
        "id": "PDAQXXT8Hqwh"
      }
    },
    {
      "cell_type": "code",
      "execution_count": null,
      "metadata": {
        "id": "XvDWSQBZHp_b"
      },
      "outputs": [],
      "source": []
    },
    {
      "cell_type": "code",
      "source": [],
      "metadata": {
        "id": "X5wCZ4AvN_Sy"
      },
      "execution_count": null,
      "outputs": []
    },
    {
      "cell_type": "markdown",
      "source": [
        "**EXERCÍCIO 02**\n",
        "- Crie um modelo com o algoritmo k-Means, agora utilizando o Orange e compare os resultados."
      ],
      "metadata": {
        "id": "pAg_GMmGOAT-"
      }
    },
    {
      "cell_type": "code",
      "source": [],
      "metadata": {
        "id": "WjTWpybqODza"
      },
      "execution_count": null,
      "outputs": []
    },
    {
      "cell_type": "code",
      "source": [],
      "metadata": {
        "id": "LuDj6liBOEYs"
      },
      "execution_count": null,
      "outputs": []
    },
    {
      "cell_type": "markdown",
      "source": [
        "**EXERCÍCIO 03**\n",
        "- Usando o dataset Iris, utilize a técnica de redução de dimensionalidade Principal Component Analysis (PCA), treine novos modelos e compare os resultados. Utilize o Python e o Orange."
      ],
      "metadata": {
        "id": "MmxjEsfLOE0J"
      }
    },
    {
      "cell_type": "code",
      "source": [],
      "metadata": {
        "id": "gwedgVLEOFfL"
      },
      "execution_count": null,
      "outputs": []
    },
    {
      "cell_type": "code",
      "source": [],
      "metadata": {
        "id": "4oo6ygieOG-W"
      },
      "execution_count": null,
      "outputs": []
    }
  ]
}