{
  "nbformat": 4,
  "nbformat_minor": 0,
  "metadata": {
    "colab": {
      "provenance": []
    },
    "kernelspec": {
      "name": "python3",
      "display_name": "Python 3"
    },
    "language_info": {
      "name": "python"
    }
  },
  "cells": [
    {
      "cell_type": "markdown",
      "source": [
        "# Numpy \n",
        "(Numerical Python)\n",
        "\n",
        "Principais recursos:\n",
        "- Poderoso objeto array multidimensional.\n",
        "- Funções matemáticas sofisticadas para operações com arrays, sem uso de laços for.\n",
        "- Recursos de álgebra linear e geração de números aleatórios.\n",
        "\n",
        "Documentação: https://numpy.org/doc/1.24"
      ],
      "metadata": {
        "id": "Go4GjFERR_bq"
      }
    },
    {
      "cell_type": "code",
      "source": [
        "# Importando o Numpy\n",
        "import numpy as np\n"
      ],
      "metadata": {
        "id": "0zCK5kmLSk5Y"
      },
      "execution_count": 1,
      "outputs": []
    },
    {
      "cell_type": "code",
      "source": [
        "# Criando um array Numpy\n",
        "np.arange(20)"
      ],
      "metadata": {
        "colab": {
          "base_uri": "https://localhost:8080/"
        },
        "id": "UUmcGDBwTH12",
        "outputId": "22dd096f-257c-4f82-95fa-0ea92f93360b"
      },
      "execution_count": 2,
      "outputs": [
        {
          "output_type": "execute_result",
          "data": {
            "text/plain": [
              "array([ 0,  1,  2,  3,  4,  5,  6,  7,  8,  9, 10, 11, 12, 13, 14, 15, 16,\n",
              "       17, 18, 19])"
            ]
          },
          "metadata": {},
          "execution_count": 2
        }
      ]
    },
    {
      "cell_type": "code",
      "source": [
        "# Importando parte do pacote:\n",
        "from numpy import arange"
      ],
      "metadata": {
        "id": "FhOM1nMOTa6P"
      },
      "execution_count": 3,
      "outputs": []
    },
    {
      "cell_type": "code",
      "source": [
        "arange(20)"
      ],
      "metadata": {
        "colab": {
          "base_uri": "https://localhost:8080/"
        },
        "id": "3hy6QakwTny_",
        "outputId": "9e8d63c1-526b-47fc-fc98-2732fc42e9a0"
      },
      "execution_count": 4,
      "outputs": [
        {
          "output_type": "execute_result",
          "data": {
            "text/plain": [
              "array([ 0,  1,  2,  3,  4,  5,  6,  7,  8,  9, 10, 11, 12, 13, 14, 15, 16,\n",
              "       17, 18, 19])"
            ]
          },
          "metadata": {},
          "execution_count": 4
        }
      ]
    },
    {
      "cell_type": "code",
      "source": [
        "# Criando arrays a partir de lista:\n",
        "numeros = np.array([100, 988, 345, 1200])"
      ],
      "metadata": {
        "id": "9WhJMCF6TqCP"
      },
      "execution_count": 5,
      "outputs": []
    },
    {
      "cell_type": "code",
      "source": [
        "numeros"
      ],
      "metadata": {
        "colab": {
          "base_uri": "https://localhost:8080/"
        },
        "id": "0I9f11-oT-F0",
        "outputId": "feacb30b-f5fa-440f-dd49-e426b8c61775"
      },
      "execution_count": 6,
      "outputs": [
        {
          "output_type": "execute_result",
          "data": {
            "text/plain": [
              "array([ 100,  988,  345, 1200])"
            ]
          },
          "metadata": {},
          "execution_count": 6
        }
      ]
    },
    {
      "cell_type": "code",
      "source": [
        "type(numeros)"
      ],
      "metadata": {
        "colab": {
          "base_uri": "https://localhost:8080/"
        },
        "id": "cV9ccSPVT-4m",
        "outputId": "dcabc291-f64b-48ae-8165-37e1f030188e"
      },
      "execution_count": 7,
      "outputs": [
        {
          "output_type": "execute_result",
          "data": {
            "text/plain": [
              "numpy.ndarray"
            ]
          },
          "metadata": {},
          "execution_count": 7
        }
      ]
    },
    {
      "cell_type": "code",
      "source": [
        "# Tipos de dados do Numpy\n",
        "numeros.dtype"
      ],
      "metadata": {
        "colab": {
          "base_uri": "https://localhost:8080/"
        },
        "id": "CdjAS8MfUKtl",
        "outputId": "082da946-8408-43fc-cfa9-8cbb9310acb9"
      },
      "execution_count": 8,
      "outputs": [
        {
          "output_type": "execute_result",
          "data": {
            "text/plain": [
              "dtype('int64')"
            ]
          },
          "metadata": {},
          "execution_count": 8
        }
      ]
    },
    {
      "cell_type": "code",
      "source": [
        "# Carregando dados externos com o Numpy:\n",
        "# (NÃO ESQUEÇA DE CARREGAR O ARQUIVO TXT EXTERNO NO COLAB!!!)\n",
        "teste = np.loadtxt(fname = 'test_num.txt', dtype = int)"
      ],
      "metadata": {
        "id": "_dWEMombUXb2"
      },
      "execution_count": 12,
      "outputs": []
    },
    {
      "cell_type": "code",
      "source": [
        "teste"
      ],
      "metadata": {
        "colab": {
          "base_uri": "https://localhost:8080/"
        },
        "id": "ci6fukotVaqd",
        "outputId": "61f4df35-fe2f-4d24-c339-36711cca2541"
      },
      "execution_count": 11,
      "outputs": [
        {
          "output_type": "execute_result",
          "data": {
            "text/plain": [
              "array([  12,   14,  200,   34,  540, 1000])"
            ]
          },
          "metadata": {},
          "execution_count": 11
        }
      ]
    },
    {
      "cell_type": "code",
      "source": [
        "teste.dtype"
      ],
      "metadata": {
        "colab": {
          "base_uri": "https://localhost:8080/"
        },
        "id": "rmE_8ezMVblk",
        "outputId": "ec1ce159-4c37-472a-9f59-105f87381da2"
      },
      "execution_count": null,
      "outputs": [
        {
          "output_type": "execute_result",
          "data": {
            "text/plain": [
              "dtype('int64')"
            ]
          },
          "metadata": {},
          "execution_count": 37
        }
      ]
    },
    {
      "cell_type": "code",
      "source": [
        "# Array de duas dimensões (Matrizes e Datasets)\n",
        "dados = [\n",
        "    ['São Paulo', 'Rio de Janeiro', 'Minas Gerais', 'Bahia'],\n",
        "    ['Paraná', 'Santa Catarina', 'Rio Grande do Sul', 'Espírito Santo'],\n",
        "    ['Ceará', 'Bahia', 'Maranhão', 'Alagoas']\n",
        "]"
      ],
      "metadata": {
        "id": "tourpmrdViB1"
      },
      "execution_count": 13,
      "outputs": []
    },
    {
      "cell_type": "code",
      "source": [
        "dados"
      ],
      "metadata": {
        "colab": {
          "base_uri": "https://localhost:8080/"
        },
        "id": "maDhNSybXCr7",
        "outputId": "15bd8c01-809e-4b74-c532-65d509b09dc8"
      },
      "execution_count": 14,
      "outputs": [
        {
          "output_type": "execute_result",
          "data": {
            "text/plain": [
              "[['São Paulo', 'Rio de Janeiro', 'Minas Gerais', 'Bahia'],\n",
              " ['Paraná', 'Santa Catarina', 'Rio Grande do Sul', 'Espírito Santo'],\n",
              " ['Ceará', 'Bahia', 'Maranhão', 'Alagoas']]"
            ]
          },
          "metadata": {},
          "execution_count": 14
        }
      ]
    },
    {
      "cell_type": "code",
      "source": [
        "estados = np.array(dados)"
      ],
      "metadata": {
        "id": "Rw1z1_vXXDi6"
      },
      "execution_count": 15,
      "outputs": []
    },
    {
      "cell_type": "code",
      "source": [
        "estados"
      ],
      "metadata": {
        "colab": {
          "base_uri": "https://localhost:8080/"
        },
        "id": "FNmUmx7xXO47",
        "outputId": "ef298162-8d78-489e-a034-80ac3b4b8a4c"
      },
      "execution_count": 16,
      "outputs": [
        {
          "output_type": "execute_result",
          "data": {
            "text/plain": [
              "array([['São Paulo', 'Rio de Janeiro', 'Minas Gerais', 'Bahia'],\n",
              "       ['Paraná', 'Santa Catarina', 'Rio Grande do Sul',\n",
              "        'Espírito Santo'],\n",
              "       ['Ceará', 'Bahia', 'Maranhão', 'Alagoas']], dtype='<U17')"
            ]
          },
          "metadata": {},
          "execution_count": 16
        }
      ]
    },
    {
      "cell_type": "code",
      "source": [
        "type(estados)"
      ],
      "metadata": {
        "colab": {
          "base_uri": "https://localhost:8080/"
        },
        "id": "LLQnQ34tXP7K",
        "outputId": "ff6a458d-14b1-4613-aa49-c410a3a07f37"
      },
      "execution_count": 17,
      "outputs": [
        {
          "output_type": "execute_result",
          "data": {
            "text/plain": [
              "numpy.ndarray"
            ]
          },
          "metadata": {},
          "execution_count": 17
        }
      ]
    },
    {
      "cell_type": "code",
      "source": [
        "estados.shape"
      ],
      "metadata": {
        "colab": {
          "base_uri": "https://localhost:8080/"
        },
        "id": "U8nXnPa9XTTk",
        "outputId": "c93765e2-a20c-40f3-c878-1676efd8fe62"
      },
      "execution_count": 18,
      "outputs": [
        {
          "output_type": "execute_result",
          "data": {
            "text/plain": [
              "(3, 4)"
            ]
          },
          "metadata": {},
          "execution_count": 18
        }
      ]
    },
    {
      "cell_type": "code",
      "source": [
        "# Comparando desempenho do Numpy e listas\n",
        "np_array = np.arange(2000000)"
      ],
      "metadata": {
        "id": "HHpM9lllXfoD"
      },
      "execution_count": 19,
      "outputs": []
    },
    {
      "cell_type": "code",
      "source": [
        "py_list = list(range(2000000))"
      ],
      "metadata": {
        "id": "6QhHtrUjXwyj"
      },
      "execution_count": 20,
      "outputs": []
    },
    {
      "cell_type": "code",
      "source": [
        "%time for _ in range(100): np_array *= 2"
      ],
      "metadata": {
        "colab": {
          "base_uri": "https://localhost:8080/"
        },
        "id": "iNw6aVAPX5Kz",
        "outputId": "6c5c1d08-ad92-40b6-982f-94c6384888c4"
      },
      "execution_count": 21,
      "outputs": [
        {
          "output_type": "stream",
          "name": "stdout",
          "text": [
            "CPU times: user 115 ms, sys: 0 ns, total: 115 ms\n",
            "Wall time: 116 ms\n"
          ]
        }
      ]
    },
    {
      "cell_type": "code",
      "source": [
        "%time for _ in range(100): py_list = [x * 2 for x in py_list]"
      ],
      "metadata": {
        "colab": {
          "base_uri": "https://localhost:8080/"
        },
        "id": "gw_aArkTYO69",
        "outputId": "b7a55f24-491a-4d7f-d0b0-23e1a2d8c004"
      },
      "execution_count": 22,
      "outputs": [
        {
          "output_type": "stream",
          "name": "stdout",
          "text": [
            "CPU times: user 18.7 s, sys: 4.87 s, total: 23.5 s\n",
            "Wall time: 23.7 s\n"
          ]
        }
      ]
    }
  ]
}