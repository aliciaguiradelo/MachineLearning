{
  "cells": [
    {
      "cell_type": "code",
      "execution_count": null,
      "metadata": {
        "id": "dP_l8yZp7534"
      },
      "outputs": [],
      "source": [
        "!pip install ultralytics"
      ]
    },
    {
      "cell_type": "code",
      "execution_count": null,
      "metadata": {
        "id": "1c83rtEy8Pq5"
      },
      "outputs": [],
      "source": [
        "import ultralytics"
      ]
    },
    {
      "cell_type": "markdown",
      "metadata": {
        "id": "A1f0XccT2Dyy"
      },
      "source": [
        "## Detecção em Vídeos"
      ]
    },
    {
      "cell_type": "code",
      "execution_count": null,
      "metadata": {
        "id": "nVvgcy1c2I-B"
      },
      "outputs": [],
      "source": [
        "# Vídeo utilizado para teste das detecções:\n",
        "!yolo task=detect mode=predict model=yolov8l.pt conf=0.25 source='/content/video_rua01.mp4' save=True"
      ]
    },
    {
      "cell_type": "markdown",
      "source": [
        "A célula seguinte utiliza alguns pacotes adicionais para compactação e visualização do vídeo com o resultado das detecções / segmentações:"
      ],
      "metadata": {
        "id": "leb9WDCoRkg2"
      }
    },
    {
      "cell_type": "code",
      "execution_count": null,
      "metadata": {
        "id": "thtJUTZlvCeZ"
      },
      "outputs": [],
      "source": [
        "from IPython.display import HTML\n",
        "# https://ipython.readthedocs.io/en/stable/api/generated/IPython.display.html#\n",
        "\n",
        "from base64 import b64encode\n",
        "# https://docs.python.org/3/library/base64.html#\n",
        "\n",
        "import os\n",
        "# https://docs.python.org/3/library/os.html\n",
        "\n",
        "# Caminho para o vídeo de entrada (após a predição)\n",
        "save_path = '/content/runs/detect/predict/video_rua01.avi'\n",
        "\n",
        "# Cria o arquivo do vídeo já comprimido...\n",
        "compressed_path = \"/content/compressed_detect.mp4\"\n",
        "\n",
        "# O \"ffmpeg\" é uma ferramenta poderosa para manipulação de áudio e vídeo\n",
        "os.system(f\"ffmpeg -i {save_path} -vcodec libx264 {compressed_path}\")"
      ]
    },
    {
      "cell_type": "code",
      "source": [
        "# Mostra o vídeo no output do Colab\n",
        "mp4 = open(compressed_path,'rb').read()\n",
        "data_url = \"data:video/mp4;base64,\" + b64encode(mp4).decode()\n",
        "HTML(\"\"\"\n",
        "<video width=500 controls>\n",
        "      <source src=\"%s\" type=\"video/mp4\">\n",
        "</video>\n",
        "\"\"\" % data_url)"
      ],
      "metadata": {
        "id": "GWYpuP3jVNqX"
      },
      "execution_count": null,
      "outputs": []
    },
    {
      "cell_type": "markdown",
      "metadata": {
        "id": "80zVCzTR3YwS"
      },
      "source": [
        "##Segmentação em Vídeos"
      ]
    },
    {
      "cell_type": "code",
      "execution_count": null,
      "metadata": {
        "id": "omZRSNexGIco"
      },
      "outputs": [],
      "source": [
        "# Carrega o modelo do YOLOv8 e o vídeo utilizado para teste das segmentações:\n",
        "!yolo task=segment mode=predict conf=0.25 source='/content/video_pessoas01.mp4' save=True"
      ]
    },
    {
      "cell_type": "code",
      "execution_count": null,
      "metadata": {
        "id": "5-ujiIie3XzQ"
      },
      "outputs": [],
      "source": [
        "from IPython.display import HTML\n",
        "# https://ipython.readthedocs.io/en/stable/api/generated/IPython.display.html#\n",
        "\n",
        "from base64 import b64encode\n",
        "# https://docs.python.org/3/library/base64.html#\n",
        "\n",
        "import os\n",
        "# https://docs.python.org/3/library/os.html\n",
        "\n",
        "# Caminho do vídeo de entrada (após a predição)\n",
        "save_path = '/content/runs/segment/predict/video_pessoas01.avi'\n",
        "\n",
        "# Cria o arquivo do vídeo já comprimido...\n",
        "compressed_path = '/content/compressed_segment.mp4'\n",
        "\n",
        "# O \"ffmpeg\" é uma ferramenta poderosa para manipulação de áudio e vídeo\n",
        "os.system(f\"ffmpeg -i {save_path} -vcodec libx264 {compressed_path}\")"
      ]
    },
    {
      "cell_type": "code",
      "source": [
        "# Mostra o vídeo no output do Colab\n",
        "mp4 = open(compressed_path,'rb').read()\n",
        "data_url = \"data:video/mp4;base64,\" + b64encode(mp4).decode()\n",
        "HTML(\"\"\"\n",
        "<video width=500 controls>\n",
        "      <source src=\"%s\" type=\"video/mp4\">\n",
        "</video>\n",
        "\"\"\" % data_url)"
      ],
      "metadata": {
        "id": "K_iuY_V4VFWX"
      },
      "execution_count": null,
      "outputs": []
    }
  ],
  "metadata": {
    "accelerator": "GPU",
    "colab": {
      "provenance": []
    },
    "gpuClass": "standard",
    "kernelspec": {
      "display_name": "Python 3",
      "name": "python3"
    },
    "language_info": {
      "name": "python"
    }
  },
  "nbformat": 4,
  "nbformat_minor": 0
}