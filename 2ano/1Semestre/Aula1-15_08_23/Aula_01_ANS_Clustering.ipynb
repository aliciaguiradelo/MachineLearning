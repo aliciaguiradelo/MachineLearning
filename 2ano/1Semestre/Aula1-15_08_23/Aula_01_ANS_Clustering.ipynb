{
  "nbformat": 4,
  "nbformat_minor": 0,
  "metadata": {
    "colab": {
      "provenance": []
    },
    "kernelspec": {
      "name": "python3",
      "display_name": "Python 3"
    },
    "language_info": {
      "name": "python"
    }
  },
  "cells": [
    {
      "cell_type": "markdown",
      "source": [
        "**2TDSP(R/S/T) - PRIMEIRO SEMESTRE**\n",
        "\n",
        "AULA 01: APRENDIZADO NÃO SUPERVISIONADO - AGRUPAMENTO (CLUSTERING)\n",
        "\n",
        "EXEMPLO DE UTILIZAÇÃO DO ALGORITMO K-MEANS"
      ],
      "metadata": {
        "id": "cNXs8u24pX4R"
      }
    },
    {
      "cell_type": "markdown",
      "source": [],
      "metadata": {
        "id": "hsURZfcfoQLc"
      }
    },
    {
      "cell_type": "markdown",
      "source": [
        "**Situação Problema:**\n",
        "\n",
        "Necessidade da criação de um modelo preditivo para agrupamento de clientes por similaridade, com o objetivo de compreender o comportamento dos clientes e sua relação com o consumo de energia.\n",
        "\n",
        "Base de dados disponível em:\n",
        "https://archive.ics.uci.edu/dataset/235/individual+household+electric+power+consumption"
      ],
      "metadata": {
        "id": "c72jIE3Vshdc"
      }
    },
    {
      "cell_type": "code",
      "execution_count": null,
      "metadata": {
        "id": "w8nTjFWhpIds"
      },
      "outputs": [],
      "source": [
        "# Importação de bibliotecas\n",
        "import pandas as pd\n",
        "import numpy as np\n",
        "import matplotlib.pyplot as plt\n",
        "from matplotlib import pylab\n",
        "\n",
        "from sklearn.cluster import KMeans\n",
        "from sklearn.decomposition import PCA\n",
        "from sklearn.model_selection import train_test_split\n",
        "from sklearn.metrics import silhouette_score\n",
        "\n",
        "import warnings\n",
        "warnings.filterwarnings('ignore')\n",
        "%matplotlib inline"
      ]
    },
    {
      "cell_type": "code",
      "source": [
        "# Carga de dados\n",
        "df = pd.read_csv('/content/household_power_consumption.txt', delimiter = ';')\n",
        "df.head()"
      ],
      "metadata": {
        "id": "_5KGnbDerLbq"
      },
      "execution_count": null,
      "outputs": []
    },
    {
      "cell_type": "markdown",
      "source": [
        "Dados disponíveis:\n",
        "\n",
        "1. **Date**: Data no formato dd/mm/aaaa\n",
        "\n",
        "2. **Time**: hora no formato hh:mm:ss\n",
        "\n",
        "3. **Global_active_power**: potência ativa média global por minuto da casa (em kilowatt)\n",
        "\n",
        "4. **Global_reactive_power**: potência reativa média global por minuto doméstica (em kilowatt)\n",
        "\n",
        "5. **Voltage**: tensão média por minuto (em volts)\n",
        "\n",
        "6. **Global_intensity**: intensidade atual média global por minuto (em ampères)\n",
        "\n",
        "7. **Sub_metering_1**: submedição de energia nº 1 (em watt-hora de energia ativa) correspondente à cozinha, contendo uma máquina de lavar louça, um forno e um micro-ondas.\n",
        "\n",
        "8. **Sub_metering_2**: submedição de energia nº 2 (em watt-hora de energia ativa) correspondente à lavanderia, contendo máquina de lavar, secadora, geladeira e luminária.\n",
        "\n",
        "9. **Sub_metering_3**: submedição de energia nº 3 (em watt-hora de energia ativa), correspondente a um aquecedor elétrico e um aparelho de ar condicionado."
      ],
      "metadata": {
        "id": "jm5HdQYfvhIo"
      }
    },
    {
      "cell_type": "markdown",
      "source": [
        "Análise Exploratória"
      ],
      "metadata": {
        "id": "JQqsRUITyFtj"
      }
    },
    {
      "cell_type": "code",
      "source": [
        "# Linhas e colunas do Data Frame\n",
        "df.shape"
      ],
      "metadata": {
        "id": "Rfa6W6ZXsEM0"
      },
      "execution_count": null,
      "outputs": []
    },
    {
      "cell_type": "code",
      "source": [
        "# Tipo de dados\n",
        "df.dtypes"
      ],
      "metadata": {
        "id": "Rw6sGGvlxxeD"
      },
      "execution_count": null,
      "outputs": []
    },
    {
      "cell_type": "code",
      "source": [
        "# Informações gerais do dataset\n",
        "df.info()"
      ],
      "metadata": {
        "id": "ZFL91hEbx1Gb"
      },
      "execution_count": null,
      "outputs": []
    },
    {
      "cell_type": "code",
      "source": [
        "# Verificação de dados faltantes\n",
        "df.isnull().values.any()"
      ],
      "metadata": {
        "id": "ziJ__dbpx38L"
      },
      "execution_count": null,
      "outputs": []
    },
    {
      "cell_type": "code",
      "source": [
        "# Verificação de dados nulos\n",
        "df.isnull().sum()"
      ],
      "metadata": {
        "id": "bKc3WH6VyudS"
      },
      "execution_count": null,
      "outputs": []
    },
    {
      "cell_type": "markdown",
      "source": [
        "Pré-processamento"
      ],
      "metadata": {
        "id": "xuiYXzlxzTic"
      }
    },
    {
      "cell_type": "code",
      "source": [
        "# Remoção de registros com valores vazios e das colunas Date e Time que não serão necessárias.\n",
        "df = df.iloc[:, 2:9].dropna()\n",
        "df.head()"
      ],
      "metadata": {
        "id": "ieabAt5zy8GZ"
      },
      "execution_count": null,
      "outputs": []
    },
    {
      "cell_type": "code",
      "source": [
        "# Verificação de dados faltantes\n",
        "df.isnull().values.any()"
      ],
      "metadata": {
        "id": "KqhbzUCl0GpB"
      },
      "execution_count": null,
      "outputs": []
    },
    {
      "cell_type": "code",
      "source": [
        "# Verificação de dados nulos\n",
        "df.isnull().sum()"
      ],
      "metadata": {
        "id": "CkzBnXSH0O7B"
      },
      "execution_count": null,
      "outputs": []
    },
    {
      "cell_type": "code",
      "source": [
        "# Criação de um array com os valores dos atributos (Esses serão nossos dados de entrada)\n",
        "df_atrib = df.values\n",
        "df_atrib"
      ],
      "metadata": {
        "id": "-jIW8jTd1CNU"
      },
      "execution_count": null,
      "outputs": []
    },
    {
      "cell_type": "code",
      "source": [
        "# Geração de amostra de 1% dos dados.\n",
        "df, amostra = train_test_split(df_atrib, train_size = 0.01)"
      ],
      "metadata": {
        "id": "NtqcSBy-0k4Z"
      },
      "execution_count": null,
      "outputs": []
    },
    {
      "cell_type": "code",
      "source": [
        "df.shape"
      ],
      "metadata": {
        "id": "7JcysFDF18cw"
      },
      "execution_count": null,
      "outputs": []
    },
    {
      "cell_type": "markdown",
      "source": [
        "Redução de dimensionalidade:\n",
        "\n",
        "Utilizaremos o PCA (Principal Component Analysis ou Análise da Componente Principal) para reduzir a dimensionalidade dos dados.\n",
        "\n",
        "A ideia do PCA é diminuir a dimensão do conjunto de dados original escolhendo um número menor de componentes para projeção sobre estas.\n",
        "O processo de redução de dimensão facilita processamento e armazenamento de dados.\n",
        "\n",
        "Transformaremos 7 variáveis em 2 variáveis, com base na matriz de covariância.\n",
        "\n",
        "Documentação:\n",
        "https://scikit-learn.org/stable/modules/generated/sklearn.decomposition.PCA.html"
      ],
      "metadata": {
        "id": "bV_0NXaH7IOk"
      }
    },
    {
      "cell_type": "code",
      "source": [
        "pca = PCA(n_components = 2).fit_transform(df)"
      ],
      "metadata": {
        "id": "LU2vpSiL6sDE"
      },
      "execution_count": null,
      "outputs": []
    },
    {
      "cell_type": "markdown",
      "source": [
        "Utilização do Algoritmo K-Means"
      ],
      "metadata": {
        "id": "tgIsLQ_b90lv"
      }
    },
    {
      "cell_type": "code",
      "source": [
        "# Determinando um range do hiperparâmetro \"k\" do K-Means\n",
        "k_range = range(1,12)\n",
        "k_range"
      ],
      "metadata": {
        "id": "zddfk_8Q9Up6"
      },
      "execution_count": null,
      "outputs": []
    },
    {
      "cell_type": "code",
      "source": [
        "# Aplicando o K-Means para cada valor de K:\n",
        "k_means_var = [KMeans(n_clusters = k).fit(pca) for k in k_range]"
      ],
      "metadata": {
        "id": "uGULY9rX-Ycw"
      },
      "execution_count": null,
      "outputs": []
    },
    {
      "cell_type": "code",
      "source": [],
      "metadata": {
        "id": "ljN3fGD7H3HU"
      },
      "execution_count": null,
      "outputs": []
    },
    {
      "cell_type": "code",
      "source": [
        "# Escolhendo um valor de K inicial igual a 8 para avaliação do modelo\n",
        "modelo_01 = KMeans(n_clusters = 8)\n",
        "modelo_01.fit(pca)"
      ],
      "metadata": {
        "id": "DQuIXX1j-0hA"
      },
      "execution_count": null,
      "outputs": []
    },
    {
      "cell_type": "code",
      "source": [
        "# Silhoutte Score\n",
        "labels = modelo_01.labels_\n",
        "silhouette_score(pca, labels, metric = 'euclidean')"
      ],
      "metadata": {
        "id": "e_v-6KGiHby0"
      },
      "execution_count": null,
      "outputs": []
    },
    {
      "cell_type": "code",
      "source": [
        "# Treinando o modelo com K = 9\n",
        "modelo_02 = KMeans(n_clusters = 9)\n",
        "modelo_02.fit(pca)"
      ],
      "metadata": {
        "id": "G2LoWNicIa3l"
      },
      "execution_count": null,
      "outputs": []
    },
    {
      "cell_type": "code",
      "source": [
        "# Silhoutte Score\n",
        "labels = modelo_02.labels_\n",
        "silhouette_score(pca, labels, metric = 'euclidean')"
      ],
      "metadata": {
        "id": "hSiYRxsdItbA"
      },
      "execution_count": null,
      "outputs": []
    },
    {
      "cell_type": "code",
      "source": [
        "# Treinando o modelo com K = 10\n",
        "modelo_03 = KMeans(n_clusters = 10)\n",
        "modelo_03.fit(pca)"
      ],
      "metadata": {
        "id": "WHc1142OI9CV"
      },
      "execution_count": null,
      "outputs": []
    },
    {
      "cell_type": "code",
      "source": [
        "# Silhoutte Score\n",
        "labels = modelo_03.labels_\n",
        "silhouette_score(pca, labels, metric = 'euclidean')"
      ],
      "metadata": {
        "id": "-rpJT8TzJK6T"
      },
      "execution_count": null,
      "outputs": []
    },
    {
      "cell_type": "markdown",
      "source": [
        "Utilizando os Clusters do modelo escolhido."
      ],
      "metadata": {
        "id": "Mp5pJFZVJpW0"
      }
    },
    {
      "cell_type": "code",
      "source": [
        "nomes = ['Global_active_power', 'Global_reactive_power', 'Voltage', 'Global_intensity', 'Sub_metering_1', 'Sub_metering_2', 'Sub_metering_3']"
      ],
      "metadata": {
        "id": "EgwpEF25K2J1"
      },
      "execution_count": null,
      "outputs": []
    },
    {
      "cell_type": "code",
      "source": [
        "# Mapeamento de clusters\n",
        "clusters = pd.DataFrame(df, columns = nomes)\n",
        "\n",
        "# Escolhendo uma das colunas e transformando em numérico:\n",
        "clusters['Global_active_power'] = pd.to_numeric(clusters['Global_active_power'])\n",
        "clusters['cluster'] = modelo_01.labels_\n",
        "clusters"
      ],
      "metadata": {
        "id": "Y2NE1EjDLaBC"
      },
      "execution_count": null,
      "outputs": []
    },
    {
      "cell_type": "code",
      "source": [
        "# Exemplo: Calculando a média de consumo de energia por cluster\n",
        "clusters.groupby('cluster')['Global_active_power'].mean()"
      ],
      "metadata": {
        "id": "8rGF4XDVL7FZ"
      },
      "execution_count": null,
      "outputs": []
    }
  ]
}