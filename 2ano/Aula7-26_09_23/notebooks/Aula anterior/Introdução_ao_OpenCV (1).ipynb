{
  "nbformat": 4,
  "nbformat_minor": 0,
  "metadata": {
    "colab": {
      "provenance": []
    },
    "kernelspec": {
      "name": "python3",
      "display_name": "Python 3"
    },
    "language_info": {
      "name": "python"
    }
  },
  "cells": [
    {
      "cell_type": "markdown",
      "source": [
        "##**Classificação de imagens com OpenCV**"
      ],
      "metadata": {
        "id": "1ROE6YfkMHUp"
      }
    },
    {
      "cell_type": "markdown",
      "source": [
        "**OpenCV** (Open Source Computer Vision Library), originalmente, desenvolvida pela Intel, em 2000, é uma biblioteca multiplataforma, totalmente livre ao uso acadêmico e comercial, para o desenvolvimento de aplicativos na área de Visão computacional.\n",
        "\n",
        "Documentação:\n",
        "\n",
        "https://opencv.org/"
      ],
      "metadata": {
        "id": "U23vuvf35t0E"
      }
    },
    {
      "cell_type": "code",
      "execution_count": null,
      "metadata": {
        "id": "hSjipnpYKfyu"
      },
      "outputs": [],
      "source": [
        "# Importando a biblioteca OpenCV:\n",
        "import cv2"
      ]
    },
    {
      "cell_type": "code",
      "source": [
        "# Importando o numpy (Numerical Python) para trabalhar com arrays\n",
        "import numpy as np"
      ],
      "metadata": {
        "id": "Hy3YZ9KSKm0y"
      },
      "execution_count": null,
      "outputs": []
    },
    {
      "cell_type": "code",
      "source": [
        "# Verificando a versão do Opencv:\n",
        "print (\"OpenCV Versão : %s \" % cv2.__version__)"
      ],
      "metadata": {
        "id": "oeL7UNrlKsAX"
      },
      "execution_count": null,
      "outputs": []
    },
    {
      "cell_type": "code",
      "source": [
        "# Importando o pacote pyplot do matplotlib:\n",
        "from matplotlib import pyplot as plt"
      ],
      "metadata": {
        "id": "5esrgUziKq1r"
      },
      "execution_count": null,
      "outputs": []
    },
    {
      "cell_type": "code",
      "source": [
        "# Carregando a imagem de exemplo:\n",
        "# O método .imread permite a importação e conversão de arquivos de imagem\n",
        "\n",
        "image = cv2.imread('hearts.jpg')"
      ],
      "metadata": {
        "id": "9wIFK6-nLF85"
      },
      "execution_count": null,
      "outputs": []
    },
    {
      "cell_type": "code",
      "source": [
        "# Verifique a variável \"image\" criada:\n",
        "image"
      ],
      "metadata": {
        "id": "NLu0Wb1DG9kS"
      },
      "execution_count": null,
      "outputs": []
    },
    {
      "cell_type": "code",
      "source": [
        "# Verifique o tipo de dado da variável \"image\"\n",
        "type(image)"
      ],
      "metadata": {
        "id": "Hs0iHWVfi8-5"
      },
      "execution_count": null,
      "outputs": []
    },
    {
      "cell_type": "code",
      "source": [
        "# Verifique as dimensões dessa variável\n",
        "image.shape"
      ],
      "metadata": {
        "id": "pwpM0b0Ri2kM"
      },
      "execution_count": null,
      "outputs": []
    },
    {
      "cell_type": "code",
      "source": [
        "# Mostrando a imagem:\n",
        "plt.imshow(image)\n"
      ],
      "metadata": {
        "id": "cA-gQAVIMilw"
      },
      "execution_count": null,
      "outputs": []
    },
    {
      "cell_type": "code",
      "source": [
        "# Invertendo canais BGR (por padrão, o Opencv usa a sequência BGR - Blue/Green/Red) para RGB:\n",
        "imageRGB = cv2.cvtColor(image, cv2.COLOR_BGR2RGB)\n",
        "plt.imshow(imageRGB)\n",
        "# plt.axis('off')\n",
        "plt.show()"
      ],
      "metadata": {
        "id": "pzgcHwwuLhJj"
      },
      "execution_count": null,
      "outputs": []
    },
    {
      "cell_type": "code",
      "source": [
        "# Mostrando a imagem sem os eixos:\n",
        "plt.imshow(imageRGB,interpolation=\"none\")\n",
        "plt.axis('off')\n",
        "plt.show()"
      ],
      "metadata": {
        "id": "kk4uQc2xMudQ"
      },
      "execution_count": null,
      "outputs": []
    },
    {
      "cell_type": "code",
      "source": [
        "type(image)"
      ],
      "metadata": {
        "id": "Hm7mCYYJNaRe"
      },
      "execution_count": null,
      "outputs": []
    },
    {
      "cell_type": "markdown",
      "source": [
        "Importante:\n",
        "\n",
        "- A imagem colorida possui três dimensões: as linhas e as colunas da matriz, bem como os canais RGB da imagem.\n",
        "\n",
        "- Uma imagem colorida tipicamente possui três canais: R (Red - vermelho) G (Green - verde) B (Blue - azul)."
      ],
      "metadata": {
        "id": "K-Es4l5zNoy3"
      }
    },
    {
      "cell_type": "code",
      "source": [
        "image"
      ],
      "metadata": {
        "id": "dLENML4KOEen"
      },
      "execution_count": null,
      "outputs": []
    },
    {
      "cell_type": "markdown",
      "source": [
        "Na matriz \"image\" que criamos a partir da imagem, podemos observar as dimensões:\n",
        "\n"
      ],
      "metadata": {
        "id": "xMJ14ctdQtFW"
      }
    },
    {
      "cell_type": "markdown",
      "source": [
        "A matriz acima é a representação da imagem de forma numérica, cada elemento representa cada pixel da imagem.\n",
        "\n",
        "Vamos analisar separando os canais de cores de um pixel específico."
      ],
      "metadata": {
        "id": "F7_aM5JtSaH6"
      }
    },
    {
      "cell_type": "code",
      "source": [
        "dimensoes = imageRGB.shape\n",
        "dimensoes"
      ],
      "metadata": {
        "id": "8-0jTOR8ONnP"
      },
      "execution_count": null,
      "outputs": []
    },
    {
      "cell_type": "code",
      "source": [
        "linhas = image.shape[0]\n",
        "colunas = image.shape[1]\n",
        "canais_rgb = image.shape[2]"
      ],
      "metadata": {
        "id": "J5UUHrFnIo83"
      },
      "execution_count": null,
      "outputs": []
    },
    {
      "cell_type": "code",
      "source": [
        "print(f'Dimensões da imagem: {dimensoes}')\n",
        "print(f'Qtde de linhas: {linhas}')\n",
        "print(f'Qtde de colunas: {colunas}')\n",
        "print(f'Número de camadas de cores (canais RGB): {canais_rgb}')"
      ],
      "metadata": {
        "id": "0Eto63ZRQCLE"
      },
      "execution_count": null,
      "outputs": []
    },
    {
      "cell_type": "code",
      "source": [
        "cores = image[100, 0]\n",
        "cores2 = imageRGB[100, 0]"
      ],
      "metadata": {
        "id": "iTZ3GGPPSNGc"
      },
      "execution_count": null,
      "outputs": []
    },
    {
      "cell_type": "code",
      "source": [
        "print(cores, cores2)"
      ],
      "metadata": {
        "id": "PsMM2fvhMrH4"
      },
      "execution_count": null,
      "outputs": []
    },
    {
      "cell_type": "markdown",
      "source": [
        "**Imagem em tons de cinza**\n",
        "\n",
        "Em muitos casos trabalhamos com imagens na escala de cinza (GRAY SCALE)\n",
        "\n",
        "Logo, neste caso, a imagem possui apenas 1 canal de cor."
      ],
      "metadata": {
        "id": "gQqWn1jnUK1M"
      }
    },
    {
      "cell_type": "code",
      "source": [
        "# Carregando a imagem na versão escala de cinza (grayscale) de um arquivo:\n",
        "image_cinza = cv2.imread('hearts.jpg', cv2.IMREAD_GRAYSCALE)"
      ],
      "metadata": {
        "id": "3JxurdncXZqw"
      },
      "execution_count": null,
      "outputs": []
    },
    {
      "cell_type": "code",
      "source": [
        "plt.imshow(image_cinza, cmap='gray')\n",
        "# plt.axis('off')\n",
        "plt.show()"
      ],
      "metadata": {
        "id": "ar02OIf_NRYM"
      },
      "execution_count": null,
      "outputs": []
    },
    {
      "cell_type": "code",
      "source": [
        "image_cinza.shape"
      ],
      "metadata": {
        "id": "XHMEgwqgYcA3"
      },
      "execution_count": null,
      "outputs": []
    },
    {
      "cell_type": "markdown",
      "source": [
        "*Alterando o tamanho de uma imagem*\n",
        "\n",
        "O redimensionamento da imagem pode ser feito na OpenCV através do comando:\n",
        "\n",
        "cv2.resize ( imagem, tamanho, interpolação )\n",
        "\n",
        "https://www.tutorialkart.com/opencv/python/opencv-python-resize-image/#gsc.tab=0\n",
        "\n",
        "O tamanho é dado por uma tupla (W,H), onde W é a largura (número de colunas) e H é a altura (número de linhas)\n",
        "\n",
        "Quanto mais pixels estiverem concentrados num espaço, maior vai ser a qualidade e nitidez dessa imagem.\n",
        "\n",
        "Os softwares de edição de imagem criam ou reduzem pixels na imagem a partir dos pixels existentes.\n",
        "\n",
        "O processo de “criação” chama-se interpolação.\n",
        "\n"
      ],
      "metadata": {
        "id": "7CdBZyjnaTXi"
      }
    },
    {
      "cell_type": "code",
      "source": [
        "imagem = cv2.imread(\"NATUREZA_1.png\")"
      ],
      "metadata": {
        "id": "NUdXcgpFaBUk"
      },
      "execution_count": null,
      "outputs": []
    },
    {
      "cell_type": "code",
      "source": [
        "plt.imshow(imagem)\n",
        "# plt.axis('off')\n",
        "plt.show()"
      ],
      "metadata": {
        "id": "rt__9NiRVVA_"
      },
      "execution_count": null,
      "outputs": []
    },
    {
      "cell_type": "code",
      "source": [
        "imagem.shape"
      ],
      "metadata": {
        "id": "dY9jleYU4GDu"
      },
      "execution_count": null,
      "outputs": []
    },
    {
      "cell_type": "code",
      "source": [
        "imagem2 = cv2.resize(imagem, (600, 400))"
      ],
      "metadata": {
        "id": "BLMvuV3w3cEk"
      },
      "execution_count": null,
      "outputs": []
    },
    {
      "cell_type": "code",
      "source": [
        "imagem2.shape"
      ],
      "metadata": {
        "id": "9UqWRDXz3b_J"
      },
      "execution_count": null,
      "outputs": []
    },
    {
      "cell_type": "code",
      "source": [
        "plt.imshow(imagem2)\n",
        "plt.axis('off')\n",
        "plt.show()"
      ],
      "metadata": {
        "id": "wnPkrweZ3b0H"
      },
      "execution_count": null,
      "outputs": []
    },
    {
      "cell_type": "markdown",
      "source": [
        "## Exercício:\n",
        "\n",
        "Para a imagens \"img3x3.png\":\n",
        "\n",
        "1. Carregue e plote a imagem na tela. Caso alguma imagem tenha canais RGB invertidos, corrija essa situação.\n",
        "\n",
        "2. Relacione as dimensões da matriz da imagem (linhas, colunas e canais RGB). Utilize strings formatadas, como no exemplo da aula.\n",
        "\n",
        "3. Converta as imagens em escala de cinza e repita o item anterior.\n",
        "\n",
        "4. Utilizando outras imagens (preferencialmente pequenas) redimensione as imagens originais para 10x maiores em relação ao tamanho original e plote as imagens.\n",
        "\n",
        "5. Repita o item anterior, agora testando e comparando as flags de interpolação Vizinhos Mais Próximos, Bilinear e Bicúbica.\n",
        "\n",
        "Documentação sobre interpolação no Opencv:\n",
        "\n",
        "https://docs.opencv.org/3.4/da/d54/group__imgproc__transform.html#ga5bb5a1fea74ea38e1a5445ca803ff121"
      ],
      "metadata": {
        "id": "eBecBKQPWhWH"
      }
    },
    {
      "cell_type": "code",
      "source": [
        "# Escreva aqui a sua solução:\n"
      ],
      "metadata": {
        "id": "2e6EW69vMO0k"
      },
      "execution_count": null,
      "outputs": []
    }
  ]
}