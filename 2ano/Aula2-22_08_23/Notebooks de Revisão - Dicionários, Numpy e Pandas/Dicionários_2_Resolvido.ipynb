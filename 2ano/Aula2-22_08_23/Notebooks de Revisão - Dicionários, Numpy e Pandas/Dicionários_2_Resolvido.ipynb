{
  "nbformat": 4,
  "nbformat_minor": 0,
  "metadata": {
    "colab": {
      "provenance": []
    },
    "kernelspec": {
      "name": "python3",
      "display_name": "Python 3"
    },
    "language_info": {
      "name": "python"
    }
  },
  "cells": [
    {
      "cell_type": "markdown",
      "source": [
        "Recordando...\n",
        "\n",
        "Dicionários"
      ],
      "metadata": {
        "id": "XrVxSLneEXfE"
      }
    },
    {
      "cell_type": "code",
      "source": [
        "nomes = ['Haaland', 'Kane', 'Toney', 'Rashford', 'Mitrovic', 'Salah', 'Martinelli']\n",
        "gols = [27, 18, 14, 14, 11, 11, 11]"
      ],
      "metadata": {
        "id": "FhkmAlBbEebC"
      },
      "execution_count": 1,
      "outputs": []
    },
    {
      "cell_type": "code",
      "source": [
        "nomes"
      ],
      "metadata": {
        "id": "VkuiCAX8A6RF",
        "colab": {
          "base_uri": "https://localhost:8080/"
        },
        "outputId": "5ed7c53e-f5eb-47b2-9b37-43cd87b791ed"
      },
      "execution_count": 2,
      "outputs": [
        {
          "output_type": "execute_result",
          "data": {
            "text/plain": [
              "['Haaland', 'Kane', 'Toney', 'Rashford', 'Mitrovic', 'Salah', 'Martinelli']"
            ]
          },
          "metadata": {},
          "execution_count": 2
        }
      ]
    },
    {
      "cell_type": "code",
      "source": [
        "gols"
      ],
      "metadata": {
        "id": "xOp0JTpkA7ic",
        "colab": {
          "base_uri": "https://localhost:8080/"
        },
        "outputId": "799a0611-e4e1-4033-8d9a-fc87e4a80bd0"
      },
      "execution_count": 3,
      "outputs": [
        {
          "output_type": "execute_result",
          "data": {
            "text/plain": [
              "[27, 18, 14, 14, 11, 11, 11]"
            ]
          },
          "metadata": {},
          "execution_count": 3
        }
      ]
    },
    {
      "cell_type": "code",
      "source": [
        "# Criando dicionários a partir de listas:\n",
        "dados = dict(zip(nomes, gols))\n"
      ],
      "metadata": {
        "id": "f80IqwhzG982"
      },
      "execution_count": 4,
      "outputs": []
    },
    {
      "cell_type": "code",
      "source": [
        "dados"
      ],
      "metadata": {
        "id": "0atIHcf1BJUt",
        "colab": {
          "base_uri": "https://localhost:8080/"
        },
        "outputId": "7f94cbd6-48e2-49b0-d5da-f0472c5ea17f"
      },
      "execution_count": 5,
      "outputs": [
        {
          "output_type": "execute_result",
          "data": {
            "text/plain": [
              "{'Haaland': 27,\n",
              " 'Kane': 18,\n",
              " 'Toney': 14,\n",
              " 'Rashford': 14,\n",
              " 'Mitrovic': 11,\n",
              " 'Salah': 11,\n",
              " 'Martinelli': 11}"
            ]
          },
          "metadata": {},
          "execution_count": 5
        }
      ]
    },
    {
      "cell_type": "code",
      "source": [
        "dados['Kane']"
      ],
      "metadata": {
        "id": "qbcM_vGSCBLV",
        "colab": {
          "base_uri": "https://localhost:8080/"
        },
        "outputId": "563cfcb7-6a92-4cfe-ccc2-d82307159d00"
      },
      "execution_count": 6,
      "outputs": [
        {
          "output_type": "execute_result",
          "data": {
            "text/plain": [
              "18"
            ]
          },
          "metadata": {},
          "execution_count": 6
        }
      ]
    },
    {
      "cell_type": "code",
      "source": [
        "type(dados)"
      ],
      "metadata": {
        "id": "yhpxuIqfHLlb",
        "colab": {
          "base_uri": "https://localhost:8080/"
        },
        "outputId": "0555b4b4-4306-4fb4-dc0d-6b6f78c0343e"
      },
      "execution_count": 7,
      "outputs": [
        {
          "output_type": "execute_result",
          "data": {
            "text/plain": [
              "dict"
            ]
          },
          "metadata": {},
          "execution_count": 7
        }
      ]
    },
    {
      "cell_type": "code",
      "source": [
        "# Como ver as chaves?\n",
        "dados.keys()"
      ],
      "metadata": {
        "id": "rpwSKWQJfNOf",
        "colab": {
          "base_uri": "https://localhost:8080/"
        },
        "outputId": "82210a03-d096-4f0e-e2e1-a2be58e5e965"
      },
      "execution_count": 8,
      "outputs": [
        {
          "output_type": "execute_result",
          "data": {
            "text/plain": [
              "dict_keys(['Haaland', 'Kane', 'Toney', 'Rashford', 'Mitrovic', 'Salah', 'Martinelli'])"
            ]
          },
          "metadata": {},
          "execution_count": 8
        }
      ]
    },
    {
      "cell_type": "code",
      "source": [
        "# Como ver os valores?\n",
        "dados.values()"
      ],
      "metadata": {
        "id": "PLfCy6wlfQ7f",
        "colab": {
          "base_uri": "https://localhost:8080/"
        },
        "outputId": "95f130ec-a8e7-4525-b536-4fb9c620ad5d"
      },
      "execution_count": 9,
      "outputs": [
        {
          "output_type": "execute_result",
          "data": {
            "text/plain": [
              "dict_values([27, 18, 14, 14, 11, 11, 11])"
            ]
          },
          "metadata": {},
          "execution_count": 9
        }
      ]
    },
    {
      "cell_type": "code",
      "source": [
        "# Como ver os pares chave/valor?\n",
        "dados.items()"
      ],
      "metadata": {
        "id": "kaV1bIlyfUfe",
        "colab": {
          "base_uri": "https://localhost:8080/"
        },
        "outputId": "5f9e0558-36a6-402a-8845-369121ee4080"
      },
      "execution_count": 10,
      "outputs": [
        {
          "output_type": "execute_result",
          "data": {
            "text/plain": [
              "dict_items([('Haaland', 27), ('Kane', 18), ('Toney', 14), ('Rashford', 14), ('Mitrovic', 11), ('Salah', 11), ('Martinelli', 11)])"
            ]
          },
          "metadata": {},
          "execution_count": 10
        }
      ]
    },
    {
      "cell_type": "code",
      "source": [
        "# Percorrendo as chaves:\n",
        "for i in dados.keys():\n",
        "  print(i)"
      ],
      "metadata": {
        "id": "g_qTvCzyHP_r",
        "colab": {
          "base_uri": "https://localhost:8080/"
        },
        "outputId": "3a0e0bfa-ae11-4151-9ffd-9f8a22ccdea3"
      },
      "execution_count": 11,
      "outputs": [
        {
          "output_type": "stream",
          "name": "stdout",
          "text": [
            "Haaland\n",
            "Kane\n",
            "Toney\n",
            "Rashford\n",
            "Mitrovic\n",
            "Salah\n",
            "Martinelli\n"
          ]
        }
      ]
    },
    {
      "cell_type": "code",
      "source": [
        "# Percorrendo os valores:\n",
        "for i in dados.values():\n",
        "  print(i)"
      ],
      "metadata": {
        "id": "TMlxMp9vHXSm",
        "colab": {
          "base_uri": "https://localhost:8080/"
        },
        "outputId": "57cee6bd-2492-432f-fae4-3605e4169610"
      },
      "execution_count": 12,
      "outputs": [
        {
          "output_type": "stream",
          "name": "stdout",
          "text": [
            "27\n",
            "18\n",
            "14\n",
            "14\n",
            "11\n",
            "11\n",
            "11\n"
          ]
        }
      ]
    },
    {
      "cell_type": "code",
      "source": [
        "# Percorrendo os pares chave/valor:\n",
        "for i in dados.items():\n",
        "  print(i)"
      ],
      "metadata": {
        "id": "W-nlSi5yHjS-",
        "colab": {
          "base_uri": "https://localhost:8080/"
        },
        "outputId": "0489c497-7b99-4b9f-c58d-f9c277e8a28b"
      },
      "execution_count": 13,
      "outputs": [
        {
          "output_type": "stream",
          "name": "stdout",
          "text": [
            "('Haaland', 27)\n",
            "('Kane', 18)\n",
            "('Toney', 14)\n",
            "('Rashford', 14)\n",
            "('Mitrovic', 11)\n",
            "('Salah', 11)\n",
            "('Martinelli', 11)\n"
          ]
        }
      ]
    },
    {
      "cell_type": "code",
      "source": [
        "# Quais jogadores têm mais de 15 gols?\n",
        "for i in dados.items():\n",
        "  if i[1] > 15:\n",
        "    print(i[0])"
      ],
      "metadata": {
        "id": "ULNJ8wOyH4a4",
        "colab": {
          "base_uri": "https://localhost:8080/"
        },
        "outputId": "231b4bbe-f10a-4d12-ba80-546c2fa3b2a5"
      },
      "execution_count": 14,
      "outputs": [
        {
          "output_type": "stream",
          "name": "stdout",
          "text": [
            "Haaland\n",
            "Kane\n"
          ]
        }
      ]
    },
    {
      "cell_type": "code",
      "source": [
        "# Quais jogadores tem 11 gols?\n",
        "for i in dados.items():\n",
        "  if i[1] == 11:\n",
        "    print(i[0])"
      ],
      "metadata": {
        "id": "LFB3x11vpAqT",
        "colab": {
          "base_uri": "https://localhost:8080/"
        },
        "outputId": "f4d47ba7-1f0a-4d91-808f-581f29fb37cf"
      },
      "execution_count": 15,
      "outputs": [
        {
          "output_type": "stream",
          "name": "stdout",
          "text": [
            "Mitrovic\n",
            "Salah\n",
            "Martinelli\n"
          ]
        }
      ]
    },
    {
      "cell_type": "markdown",
      "source": [
        "Principais funções e métodos para dicionários:\n",
        "- Tamanho do dicionário: len(dados)\n",
        "- Atualização ou inserção de dados: dados.update('chave': 'valor'})\n",
        "- Remover de itens e tratar: dados.pop('chave', default)\n",
        "- Deletar item específico: del dados['chave']\n",
        "- Copiar dicionário: dados.copy()\n",
        "- Deletar conteúdo do dicionário: dados.clear()"
      ],
      "metadata": {
        "id": "sID00QxhgmHD"
      }
    },
    {
      "cell_type": "code",
      "source": [
        "# Tamanho do dicionário:\n",
        "len(dados)"
      ],
      "metadata": {
        "id": "si8jHmZzoRQ-",
        "colab": {
          "base_uri": "https://localhost:8080/"
        },
        "outputId": "5c976723-2005-48c6-8226-a53dd42457e7"
      },
      "execution_count": 16,
      "outputs": [
        {
          "output_type": "execute_result",
          "data": {
            "text/plain": [
              "7"
            ]
          },
          "metadata": {},
          "execution_count": 16
        }
      ]
    },
    {
      "cell_type": "code",
      "source": [
        "dados"
      ],
      "metadata": {
        "colab": {
          "base_uri": "https://localhost:8080/"
        },
        "id": "MQfoUNXwjql4",
        "outputId": "8c3dc2f1-086a-498c-d2c9-c7aa842b6934"
      },
      "execution_count": 17,
      "outputs": [
        {
          "output_type": "execute_result",
          "data": {
            "text/plain": [
              "{'Haaland': 27,\n",
              " 'Kane': 18,\n",
              " 'Toney': 14,\n",
              " 'Rashford': 14,\n",
              " 'Mitrovic': 11,\n",
              " 'Salah': 11,\n",
              " 'Martinelli': 11}"
            ]
          },
          "metadata": {},
          "execution_count": 17
        }
      ]
    },
    {
      "cell_type": "code",
      "source": [
        "# Atualização ou inserção de dados: \n",
        "dados.update({'Toney': 15})\n",
        "dados"
      ],
      "metadata": {
        "id": "rya84nw2oVas",
        "colab": {
          "base_uri": "https://localhost:8080/"
        },
        "outputId": "4d209340-9394-43fd-d65f-ef52ed524a22"
      },
      "execution_count": 18,
      "outputs": [
        {
          "output_type": "execute_result",
          "data": {
            "text/plain": [
              "{'Haaland': 27,\n",
              " 'Kane': 18,\n",
              " 'Toney': 15,\n",
              " 'Rashford': 14,\n",
              " 'Mitrovic': 11,\n",
              " 'Salah': 11,\n",
              " 'Martinelli': 11}"
            ]
          },
          "metadata": {},
          "execution_count": 18
        }
      ]
    },
    {
      "cell_type": "code",
      "source": [
        "dados.update({'Rodrigo': 10, 'Kane': 20})\n",
        "dados"
      ],
      "metadata": {
        "id": "fEV4uRfUDxkx",
        "colab": {
          "base_uri": "https://localhost:8080/"
        },
        "outputId": "91d82219-f006-428d-aca3-f1a5573cb037"
      },
      "execution_count": 19,
      "outputs": [
        {
          "output_type": "execute_result",
          "data": {
            "text/plain": [
              "{'Haaland': 27,\n",
              " 'Kane': 20,\n",
              " 'Toney': 15,\n",
              " 'Rashford': 14,\n",
              " 'Mitrovic': 11,\n",
              " 'Salah': 11,\n",
              " 'Martinelli': 11,\n",
              " 'Rodrigo': 10}"
            ]
          },
          "metadata": {},
          "execution_count": 19
        }
      ]
    },
    {
      "cell_type": "code",
      "source": [
        "dados.pop('Rodrigo')"
      ],
      "metadata": {
        "id": "-iudyNn0lsky",
        "colab": {
          "base_uri": "https://localhost:8080/"
        },
        "outputId": "8321477e-a5b3-4c2f-d4f2-7d842dcf7b40"
      },
      "execution_count": 20,
      "outputs": [
        {
          "output_type": "execute_result",
          "data": {
            "text/plain": [
              "10"
            ]
          },
          "metadata": {},
          "execution_count": 20
        }
      ]
    },
    {
      "cell_type": "code",
      "source": [
        "# Remover de itens e tratar: \n",
        "dados.pop('Mitrovic', 'Não existe tal jogador')"
      ],
      "metadata": {
        "id": "ip_FQL_9oZSG",
        "colab": {
          "base_uri": "https://localhost:8080/"
        },
        "outputId": "2281f58d-93b0-4acf-ce1a-25a4b8ceb4b3"
      },
      "execution_count": 21,
      "outputs": [
        {
          "output_type": "execute_result",
          "data": {
            "text/plain": [
              "11"
            ]
          },
          "metadata": {},
          "execution_count": 21
        }
      ]
    },
    {
      "cell_type": "code",
      "source": [
        "dados"
      ],
      "metadata": {
        "id": "s3GkIWtBE5fQ",
        "colab": {
          "base_uri": "https://localhost:8080/"
        },
        "outputId": "b63dd024-33dd-4f35-e133-ee9fdddb7540"
      },
      "execution_count": 22,
      "outputs": [
        {
          "output_type": "execute_result",
          "data": {
            "text/plain": [
              "{'Haaland': 27,\n",
              " 'Kane': 20,\n",
              " 'Toney': 15,\n",
              " 'Rashford': 14,\n",
              " 'Salah': 11,\n",
              " 'Martinelli': 11}"
            ]
          },
          "metadata": {},
          "execution_count": 22
        }
      ]
    },
    {
      "cell_type": "code",
      "source": [
        "# Deletar item específico: \n",
        "del dados['Salah']"
      ],
      "metadata": {
        "id": "wX-yz6uKognl"
      },
      "execution_count": 23,
      "outputs": []
    },
    {
      "cell_type": "code",
      "source": [
        "dados"
      ],
      "metadata": {
        "id": "v01KYCyXFlpz",
        "colab": {
          "base_uri": "https://localhost:8080/"
        },
        "outputId": "f5ea8042-557c-425c-8c55-5eab8be4dc42"
      },
      "execution_count": 24,
      "outputs": [
        {
          "output_type": "execute_result",
          "data": {
            "text/plain": [
              "{'Haaland': 27, 'Kane': 20, 'Toney': 15, 'Rashford': 14, 'Martinelli': 11}"
            ]
          },
          "metadata": {},
          "execution_count": 24
        }
      ]
    },
    {
      "cell_type": "code",
      "source": [
        "# Copiar dicionário:\n",
        "dados2 = dados\n",
        "dados2"
      ],
      "metadata": {
        "id": "6YVEgXVWolYH",
        "colab": {
          "base_uri": "https://localhost:8080/"
        },
        "outputId": "67e1b40b-e80c-4173-d018-d3e35cf90386"
      },
      "execution_count": 25,
      "outputs": [
        {
          "output_type": "execute_result",
          "data": {
            "text/plain": [
              "{'Haaland': 27, 'Kane': 20, 'Toney': 15, 'Rashford': 14, 'Martinelli': 11}"
            ]
          },
          "metadata": {},
          "execution_count": 25
        }
      ]
    },
    {
      "cell_type": "code",
      "source": [
        "dados2.pop('Kane')\n",
        "dados2"
      ],
      "metadata": {
        "id": "pz8esZVRmUVL",
        "colab": {
          "base_uri": "https://localhost:8080/"
        },
        "outputId": "3f299ca8-c903-4180-f667-53ac65c1c69e"
      },
      "execution_count": 26,
      "outputs": [
        {
          "output_type": "execute_result",
          "data": {
            "text/plain": [
              "{'Haaland': 27, 'Toney': 15, 'Rashford': 14, 'Martinelli': 11}"
            ]
          },
          "metadata": {},
          "execution_count": 26
        }
      ]
    },
    {
      "cell_type": "code",
      "source": [
        "dados"
      ],
      "metadata": {
        "id": "og1gOBJxmTUR",
        "colab": {
          "base_uri": "https://localhost:8080/"
        },
        "outputId": "12290654-08c2-4ec0-a766-e3672a4dc101"
      },
      "execution_count": 27,
      "outputs": [
        {
          "output_type": "execute_result",
          "data": {
            "text/plain": [
              "{'Haaland': 27, 'Toney': 15, 'Rashford': 14, 'Martinelli': 11}"
            ]
          },
          "metadata": {},
          "execution_count": 27
        }
      ]
    },
    {
      "cell_type": "code",
      "source": [
        "dados2 = dados.copy()\n",
        "dados2"
      ],
      "metadata": {
        "id": "ogivUZY1m0ly",
        "colab": {
          "base_uri": "https://localhost:8080/"
        },
        "outputId": "87191f89-0555-4fa5-e6f0-bb38fa2f5160"
      },
      "execution_count": 28,
      "outputs": [
        {
          "output_type": "execute_result",
          "data": {
            "text/plain": [
              "{'Haaland': 27, 'Toney': 15, 'Rashford': 14, 'Martinelli': 11}"
            ]
          },
          "metadata": {},
          "execution_count": 28
        }
      ]
    },
    {
      "cell_type": "code",
      "source": [
        "dados2.pop('Toney')\n",
        "dados2"
      ],
      "metadata": {
        "id": "td-VnVNtm0VC",
        "colab": {
          "base_uri": "https://localhost:8080/"
        },
        "outputId": "9d21ab3c-1a3e-41ae-d104-42aff18e6e7a"
      },
      "execution_count": 29,
      "outputs": [
        {
          "output_type": "execute_result",
          "data": {
            "text/plain": [
              "{'Haaland': 27, 'Rashford': 14, 'Martinelli': 11}"
            ]
          },
          "metadata": {},
          "execution_count": 29
        }
      ]
    },
    {
      "cell_type": "code",
      "source": [
        "dados"
      ],
      "metadata": {
        "id": "i38tmXP9nEx7",
        "colab": {
          "base_uri": "https://localhost:8080/"
        },
        "outputId": "6a5f2124-a438-4dcd-815c-27a40338f031"
      },
      "execution_count": 30,
      "outputs": [
        {
          "output_type": "execute_result",
          "data": {
            "text/plain": [
              "{'Haaland': 27, 'Toney': 15, 'Rashford': 14, 'Martinelli': 11}"
            ]
          },
          "metadata": {},
          "execution_count": 30
        }
      ]
    },
    {
      "cell_type": "code",
      "source": [
        "# Deletar contéudo do dicionário:\n",
        "dados2.clear()\n",
        "dados2"
      ],
      "metadata": {
        "id": "xJs9hOTOopfq",
        "colab": {
          "base_uri": "https://localhost:8080/"
        },
        "outputId": "4a404ed5-27fd-4086-c679-cab27a2ceb10"
      },
      "execution_count": 31,
      "outputs": [
        {
          "output_type": "execute_result",
          "data": {
            "text/plain": [
              "{}"
            ]
          },
          "metadata": {},
          "execution_count": 31
        }
      ]
    },
    {
      "cell_type": "code",
      "source": [],
      "metadata": {
        "id": "UviWbB4tnW61"
      },
      "execution_count": 31,
      "outputs": []
    }
  ]
}