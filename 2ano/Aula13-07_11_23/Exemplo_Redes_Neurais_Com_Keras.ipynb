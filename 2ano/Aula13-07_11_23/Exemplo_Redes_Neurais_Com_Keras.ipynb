{
  "nbformat": 4,
  "nbformat_minor": 0,
  "metadata": {
    "colab": {
      "provenance": []
    },
    "kernelspec": {
      "name": "python3",
      "display_name": "Python 3"
    },
    "language_info": {
      "name": "python"
    }
  },
  "cells": [
    {
      "cell_type": "markdown",
      "source": [
        "Material sobre treinamento de redes neurais:\n",
        "\n",
        "https://www.deeplearningbook.com.br/algoritmo-backpropagation-parte-2-treinamento-de-redes-neurais/\n",
        "\n",
        "Documentação sobre perdas (losses):\n",
        "\n",
        "https://keras.io/api/losses/\n",
        "\n",
        "Material sobre gradiente descendente:\n",
        "\n",
        "https://www.deeplearningbook.com.br/aprendizado-com-a-descida-do-gradiente/\n",
        "\n",
        "https://towardsdatascience.com/gradient-descent-algorithm-a-deep-dive-cf04e8115f21\n",
        "\n",
        "Material sobre funções de ativação:\n",
        "\n",
        "https://www.deeplearningbook.com.br/funcao-de-ativacao/\n",
        "\n",
        "Documentação sobre otimizadores:\n",
        "\n",
        "https://keras.io/api/optimizers/"
      ],
      "metadata": {
        "id": "ec6KvsOn_sQ6"
      }
    },
    {
      "cell_type": "code",
      "execution_count": null,
      "metadata": {
        "id": "aTfdJnOdyGHH"
      },
      "outputs": [],
      "source": [
        "# Importando bibliotecas\n",
        "import numpy as np\n",
        "import pandas as pd\n",
        "import matplotlib.pyplot as plt\n",
        "\n",
        "from sklearn.model_selection import train_test_split\n",
        "from sklearn.preprocessing import LabelEncoder\n",
        "\n",
        "from keras.models import Sequential\n",
        "from keras.layers import Dense\n",
        "from keras.utils import to_categorical"
      ]
    },
    {
      "cell_type": "markdown",
      "source": [
        "Dataset de exemplo:\n",
        "\n",
        "Breast Cancer Wisconsin (Diagnostic) Data Set\n",
        "\n",
        "https://www.kaggle.com/datasets/uciml/breast-cancer-wisconsin-data"
      ],
      "metadata": {
        "id": "EvtM69hBzeQi"
      }
    },
    {
      "cell_type": "code",
      "source": [
        "# Carregar o conjunto de dados\n",
        "url = \"https://archive.ics.uci.edu/ml/machine-learning-databases/breast-cancer-wisconsin/wdbc.data\"\n",
        "column_names = ['ID', 'Diagnosis', 'Mean Radius', 'Mean Texture', 'Mean Perimeter', 'Mean Area', 'Mean Smoothness', 'Mean Compactness', 'Mean Concavity', 'Mean Concave Points', 'Mean Symmetry', 'Mean Fractal Dimension', 'Radius SE', 'Texture SE', 'Perimeter SE', 'Area SE', 'Smoothness SE', 'Compactness SE', 'Concavity SE', 'Concave Points SE', 'Symmetry SE', 'Fractal Dimension SE', 'Worst Radius', 'Worst Texture', 'Worst Perimeter', 'Worst Area', 'Worst Smoothness', 'Worst Compactness', 'Worst Concavity', 'Worst Concave Points', 'Worst Symmetry', 'Worst Fractal Dimension']\n",
        "data = pd.read_csv(url, header=None, names=column_names)"
      ],
      "metadata": {
        "id": "X8aJDfhwyRN6"
      },
      "execution_count": null,
      "outputs": []
    },
    {
      "cell_type": "code",
      "source": [
        "data.head()"
      ],
      "metadata": {
        "id": "bJ-9zjtRyjOs"
      },
      "execution_count": null,
      "outputs": []
    },
    {
      "cell_type": "code",
      "source": [
        "data.describe()"
      ],
      "metadata": {
        "id": "r1G-_NdWyko8"
      },
      "execution_count": null,
      "outputs": []
    },
    {
      "cell_type": "code",
      "source": [
        "data.Diagnosis"
      ],
      "metadata": {
        "id": "4k5xFCXh0xek"
      },
      "execution_count": null,
      "outputs": []
    },
    {
      "cell_type": "code",
      "source": [
        "# Seleção das features:\n",
        "X = data.iloc[:, 2:]\n",
        "# Dados da coluna target:\n",
        "y = data['Diagnosis']"
      ],
      "metadata": {
        "id": "qg2yO9HNyqKD"
      },
      "execution_count": null,
      "outputs": []
    },
    {
      "cell_type": "code",
      "source": [
        "y"
      ],
      "metadata": {
        "id": "KPT3r2Up2o3-"
      },
      "execution_count": null,
      "outputs": []
    },
    {
      "cell_type": "code",
      "source": [
        "# Usando o Label Encoder para converter colunas categóricas em numéricas\n",
        "label_encoder = LabelEncoder()\n",
        "y = label_encoder.fit_transform(y)\n",
        "y"
      ],
      "metadata": {
        "id": "1AC6K6572ewB"
      },
      "execution_count": null,
      "outputs": []
    },
    {
      "cell_type": "code",
      "source": [
        "X.shape"
      ],
      "metadata": {
        "id": "Rcgo0cUu1OCW"
      },
      "execution_count": null,
      "outputs": []
    },
    {
      "cell_type": "code",
      "source": [
        "y.shape"
      ],
      "metadata": {
        "id": "jugVTR3n1aUZ"
      },
      "execution_count": null,
      "outputs": []
    },
    {
      "cell_type": "code",
      "source": [
        "# Separação de dados de treino e teste\n",
        "X_train, X_test, y_train, y_test = train_test_split(X, y, test_size=0.2, random_state=42)"
      ],
      "metadata": {
        "id": "Il65nTzl0-0Q"
      },
      "execution_count": null,
      "outputs": []
    },
    {
      "cell_type": "code",
      "source": [
        "X_train.shape"
      ],
      "metadata": {
        "id": "gPMcrxsl1Ewg"
      },
      "execution_count": null,
      "outputs": []
    },
    {
      "cell_type": "code",
      "source": [
        "X_test.shape"
      ],
      "metadata": {
        "id": "HncCpBGl1hF9"
      },
      "execution_count": null,
      "outputs": []
    },
    {
      "cell_type": "markdown",
      "source": [
        "### Construção do modelo\n"
      ],
      "metadata": {
        "id": "GDF0kkpm1vdT"
      }
    },
    {
      "cell_type": "code",
      "source": [
        "# Construindo o modelo\n",
        "my_nn = Sequential()\n",
        "my_nn.add(Dense(16, input_dim=X.shape[1], activation='relu'))\n",
        "my_nn.add(Dense(8, activation='relu'))\n",
        "my_nn.add(Dense(1, activation='sigmoid'))\n",
        "\n",
        "\n",
        "# Compilar o modelo\n",
        "my_nn.compile(loss='binary_crossentropy', optimizer='adam', metrics=['accuracy'])"
      ],
      "metadata": {
        "id": "kFlAVsfd1j2G"
      },
      "execution_count": null,
      "outputs": []
    },
    {
      "cell_type": "code",
      "source": [
        "# Treinamento do modelo\n",
        "my_nn.fit(X_train, y_train, epochs=50, batch_size=10)"
      ],
      "metadata": {
        "id": "4keGcsr61-tZ"
      },
      "execution_count": null,
      "outputs": []
    },
    {
      "cell_type": "markdown",
      "source": [
        "Avaliando o modelo:"
      ],
      "metadata": {
        "id": "uhRFozlN24tm"
      }
    },
    {
      "cell_type": "code",
      "source": [
        "loss, accuracy = my_nn.evaluate(X_test, y_test)\n",
        "print(f'Acurácia do modelo: {accuracy * 100:.2f}%')"
      ],
      "metadata": {
        "id": "GaPKyp922TDk"
      },
      "execution_count": null,
      "outputs": []
    },
    {
      "cell_type": "markdown",
      "source": [
        "Fazendo previsões:"
      ],
      "metadata": {
        "id": "ptYXD65z3PWa"
      }
    },
    {
      "cell_type": "code",
      "source": [
        "amostra1 = X.sample()"
      ],
      "metadata": {
        "id": "D2GvxfHG3BT1"
      },
      "execution_count": null,
      "outputs": []
    },
    {
      "cell_type": "code",
      "source": [
        "# amostra2 = np.array([[17.99, 10.38, 122.8, 1001.0, 0.1184, 0.2776, 0.3001, 0.1471, 0.2419, 0.07871, 1.095, 0.9053, 8.589, 153.4, 0.006399, 0.04904, 0.05373, 0.01587, 0.03003, 0.006193, 25.38, 17.33, 184.6, 2019.0, 0.1622, 0.6656, 0.7119, 0.2654, 0.4601, 0.1189]])"
      ],
      "metadata": {
        "id": "PofnoXxR6f5m"
      },
      "execution_count": null,
      "outputs": []
    },
    {
      "cell_type": "code",
      "source": [
        "predicao = my_nn.predict(amostra1)\n",
        "# predicao = my_nn.predict(amostra2)"
      ],
      "metadata": {
        "id": "C4gOILsh5Rov"
      },
      "execution_count": null,
      "outputs": []
    },
    {
      "cell_type": "code",
      "source": [
        "predicao"
      ],
      "metadata": {
        "id": "tSdnKNZA66f_"
      },
      "execution_count": null,
      "outputs": []
    },
    {
      "cell_type": "code",
      "source": [
        "print(f'Previsão: {predicao}')\n",
        "if predicao > 0.5:\n",
        "    print('Diagnóstico: Maligno')\n",
        "else:\n",
        "    print('Diagnóstico: Benigno')"
      ],
      "metadata": {
        "id": "S2r9CtkE6B98"
      },
      "execution_count": null,
      "outputs": []
    }
  ]
}