{
  "nbformat": 4,
  "nbformat_minor": 0,
  "metadata": {
    "colab": {
      "provenance": []
    },
    "kernelspec": {
      "name": "python3",
      "display_name": "Python 3"
    },
    "language_info": {
      "name": "python"
    }
  },
  "cells": [
    {
      "cell_type": "markdown",
      "source": [
        "### Curso: Tecnologia em Análise e Desenvolvimento de Sistemas\n",
        "### Disciplina: Disruptive Architectures - IOT, IOB e IA\n",
        "### Turmas: 2TDSPR, 2TDSPS e 2TDSPT\n",
        "#### Prof. André Tritiack: prof.andrefarias@fiap.com.br\n",
        "#### 2º Semestre de 2023\n",
        "\n",
        "## CHECKPOINT 1 - Pontuação Máxima: 10.00 pontos\n",
        "\n",
        "LEIA ATENTAMENTE AS INSTRUÇÕES:\n",
        "\n",
        "1.\tO trabalho deve ser realizado em grupo de até 5 (cinco) pessoas. Não precisa necessariamente ser o mesmo grupo do Challenge.\n",
        "\n",
        "2. O conteúdo relacionado a este Checkpoint refere-se aos algoritmos de Aprendizado de Máquina Não Supervisionados de Agrupamento (K-Means) e Redução de Dimensionalidade (PCA - Principal Component Analysis).\n",
        "\n",
        "3.\tVocê deverá submeter uma cópia deste arquivo notebook .ipynb com as respostas nos campos indicados e as saídas executadas. Anexe os arquivos auxiliares que utilizar.\n",
        "\n",
        "4. É fundamental que sejam criadas células de texto e/ou comentários para suas respostas e apontamentos.\n",
        "\n",
        "5.\tApenas um aluno submeterá o arquivo no Teams. Mude o nome do arquivo notebook para um nome com as iniciais do seu nome completo (de quem submeterá o arquivo), seguido do seu RM e \"CP1\". Exemplo: ATF12000 - CP1\n",
        "\n",
        "6.\tA entrega deverá ser feita até às 23h59 do dia 10/09/2023 na respectiva tarefa no Microsoft Teams.\n",
        "\n",
        "7.\tAs pontuações das questões estão marcadas nos enunciados.\n",
        "\n",
        "8.\tVocê pode usar trechos de códigos prontos, de fontes pesquisadas ou de notebooks das aulas, mas não copie de outros grupos. Se forem observados arquivos iguais ou muito semelhantes, ambos serão desconsiderados, tendo suas notas zeradas.\n",
        "\n",
        "9. Tire suas dúvidas com o professor e não deixe a entrega para o último dia.\n"
      ],
      "metadata": {
        "id": "YuA17r7K0uhw"
      }
    },
    {
      "cell_type": "markdown",
      "source": [
        "### Insira aqui o nome e o RM dos membros do grupo:\n",
        "Exemplo:\n",
        "- Nome1 - RM: XXXXX.\n",
        "- Nome2 - RM: YYYYY."
      ],
      "metadata": {
        "id": "V4P5XGwU6yqy"
      }
    },
    {
      "cell_type": "markdown",
      "source": [
        "# Questão 1 (2.50 pontos):\n",
        "\n",
        "Utilizando o dataset \"Mall Customers\", disponível em https://www.kaggle.com/datasets/kandij/mall-customers, agrupar os clientes com base nas características de receita anual (Annual Income (k$)) e pontuação de gastos (Spending Score).\n",
        "\n",
        "- Determine o valor ideal de k, com base no método Elbow.\n",
        "- Treine o modelo e avalie a qualidade dos clusters, utilizando a métrica Silhoutte Score."
      ],
      "metadata": {
        "id": "hz85DuaW7IFx"
      }
    },
    {
      "cell_type": "code",
      "execution_count": null,
      "metadata": {
        "id": "i7jK2fxb0jLJ"
      },
      "outputs": [],
      "source": [
        "# Importa bibliotecas\n",
        "import pandas as pd\n",
        "import numpy as np\n",
        "import matplotlib.pyplot as plt\n",
        "%matplotlib inline\n",
        "\n",
        "from sklearn.cluster import KMeans\n",
        "from sklearn import datasets\n",
        "from sklearn.metrics import silhouette_score\n",
        "\n",
        "import warnings\n",
        "warnings.filterwarnings('ignore')"
      ]
    },
    {
      "cell_type": "code",
      "source": [
        "# Carregar dados\n",
        "df = pd.read_csv('content/Mall_Customers.csv', delimiter = ',')\n",
        "df.head()"
      ],
      "metadata": {
        "id": "TUEi01or8Mua",
        "colab": {
          "base_uri": "https://localhost:8080/",
          "height": 206
        },
        "outputId": "c94099bb-eacc-478f-9b61-3dcb9b286d78"
      },
      "execution_count": null,
      "outputs": [
        {
          "output_type": "execute_result",
          "data": {
            "text/plain": [
              "   CustomerID   Genre  Age  Annual Income (k$)  Spending Score (1-100)\n",
              "0           1    Male   19                  15                      39\n",
              "1           2    Male   21                  15                      81\n",
              "2           3  Female   20                  16                       6\n",
              "3           4  Female   23                  16                      77\n",
              "4           5  Female   31                  17                      40"
            ],
            "text/html": [
              "\n",
              "  <div id=\"df-d5dd11ca-29c5-456a-8e03-385d5edf055b\" class=\"colab-df-container\">\n",
              "    <div>\n",
              "<style scoped>\n",
              "    .dataframe tbody tr th:only-of-type {\n",
              "        vertical-align: middle;\n",
              "    }\n",
              "\n",
              "    .dataframe tbody tr th {\n",
              "        vertical-align: top;\n",
              "    }\n",
              "\n",
              "    .dataframe thead th {\n",
              "        text-align: right;\n",
              "    }\n",
              "</style>\n",
              "<table border=\"1\" class=\"dataframe\">\n",
              "  <thead>\n",
              "    <tr style=\"text-align: right;\">\n",
              "      <th></th>\n",
              "      <th>CustomerID</th>\n",
              "      <th>Genre</th>\n",
              "      <th>Age</th>\n",
              "      <th>Annual Income (k$)</th>\n",
              "      <th>Spending Score (1-100)</th>\n",
              "    </tr>\n",
              "  </thead>\n",
              "  <tbody>\n",
              "    <tr>\n",
              "      <th>0</th>\n",
              "      <td>1</td>\n",
              "      <td>Male</td>\n",
              "      <td>19</td>\n",
              "      <td>15</td>\n",
              "      <td>39</td>\n",
              "    </tr>\n",
              "    <tr>\n",
              "      <th>1</th>\n",
              "      <td>2</td>\n",
              "      <td>Male</td>\n",
              "      <td>21</td>\n",
              "      <td>15</td>\n",
              "      <td>81</td>\n",
              "    </tr>\n",
              "    <tr>\n",
              "      <th>2</th>\n",
              "      <td>3</td>\n",
              "      <td>Female</td>\n",
              "      <td>20</td>\n",
              "      <td>16</td>\n",
              "      <td>6</td>\n",
              "    </tr>\n",
              "    <tr>\n",
              "      <th>3</th>\n",
              "      <td>4</td>\n",
              "      <td>Female</td>\n",
              "      <td>23</td>\n",
              "      <td>16</td>\n",
              "      <td>77</td>\n",
              "    </tr>\n",
              "    <tr>\n",
              "      <th>4</th>\n",
              "      <td>5</td>\n",
              "      <td>Female</td>\n",
              "      <td>31</td>\n",
              "      <td>17</td>\n",
              "      <td>40</td>\n",
              "    </tr>\n",
              "  </tbody>\n",
              "</table>\n",
              "</div>\n",
              "    <div class=\"colab-df-buttons\">\n",
              "\n",
              "  <div class=\"colab-df-container\">\n",
              "    <button class=\"colab-df-convert\" onclick=\"convertToInteractive('df-d5dd11ca-29c5-456a-8e03-385d5edf055b')\"\n",
              "            title=\"Convert this dataframe to an interactive table.\"\n",
              "            style=\"display:none;\">\n",
              "\n",
              "  <svg xmlns=\"http://www.w3.org/2000/svg\" height=\"24px\" viewBox=\"0 -960 960 960\">\n",
              "    <path d=\"M120-120v-720h720v720H120Zm60-500h600v-160H180v160Zm220 220h160v-160H400v160Zm0 220h160v-160H400v160ZM180-400h160v-160H180v160Zm440 0h160v-160H620v160ZM180-180h160v-160H180v160Zm440 0h160v-160H620v160Z\"/>\n",
              "  </svg>\n",
              "    </button>\n",
              "\n",
              "  <style>\n",
              "    .colab-df-container {\n",
              "      display:flex;\n",
              "      gap: 12px;\n",
              "    }\n",
              "\n",
              "    .colab-df-convert {\n",
              "      background-color: #E8F0FE;\n",
              "      border: none;\n",
              "      border-radius: 50%;\n",
              "      cursor: pointer;\n",
              "      display: none;\n",
              "      fill: #1967D2;\n",
              "      height: 32px;\n",
              "      padding: 0 0 0 0;\n",
              "      width: 32px;\n",
              "    }\n",
              "\n",
              "    .colab-df-convert:hover {\n",
              "      background-color: #E2EBFA;\n",
              "      box-shadow: 0px 1px 2px rgba(60, 64, 67, 0.3), 0px 1px 3px 1px rgba(60, 64, 67, 0.15);\n",
              "      fill: #174EA6;\n",
              "    }\n",
              "\n",
              "    .colab-df-buttons div {\n",
              "      margin-bottom: 4px;\n",
              "    }\n",
              "\n",
              "    [theme=dark] .colab-df-convert {\n",
              "      background-color: #3B4455;\n",
              "      fill: #D2E3FC;\n",
              "    }\n",
              "\n",
              "    [theme=dark] .colab-df-convert:hover {\n",
              "      background-color: #434B5C;\n",
              "      box-shadow: 0px 1px 3px 1px rgba(0, 0, 0, 0.15);\n",
              "      filter: drop-shadow(0px 1px 2px rgba(0, 0, 0, 0.3));\n",
              "      fill: #FFFFFF;\n",
              "    }\n",
              "  </style>\n",
              "\n",
              "    <script>\n",
              "      const buttonEl =\n",
              "        document.querySelector('#df-d5dd11ca-29c5-456a-8e03-385d5edf055b button.colab-df-convert');\n",
              "      buttonEl.style.display =\n",
              "        google.colab.kernel.accessAllowed ? 'block' : 'none';\n",
              "\n",
              "      async function convertToInteractive(key) {\n",
              "        const element = document.querySelector('#df-d5dd11ca-29c5-456a-8e03-385d5edf055b');\n",
              "        const dataTable =\n",
              "          await google.colab.kernel.invokeFunction('convertToInteractive',\n",
              "                                                    [key], {});\n",
              "        if (!dataTable) return;\n",
              "\n",
              "        const docLinkHtml = 'Like what you see? Visit the ' +\n",
              "          '<a target=\"_blank\" href=https://colab.research.google.com/notebooks/data_table.ipynb>data table notebook</a>'\n",
              "          + ' to learn more about interactive tables.';\n",
              "        element.innerHTML = '';\n",
              "        dataTable['output_type'] = 'display_data';\n",
              "        await google.colab.output.renderOutput(dataTable, element);\n",
              "        const docLink = document.createElement('div');\n",
              "        docLink.innerHTML = docLinkHtml;\n",
              "        element.appendChild(docLink);\n",
              "      }\n",
              "    </script>\n",
              "  </div>\n",
              "\n",
              "\n",
              "<div id=\"df-fe420027-20af-4b51-add1-b92cc2189aa8\">\n",
              "  <button class=\"colab-df-quickchart\" onclick=\"quickchart('df-fe420027-20af-4b51-add1-b92cc2189aa8')\"\n",
              "            title=\"Suggest charts.\"\n",
              "            style=\"display:none;\">\n",
              "\n",
              "<svg xmlns=\"http://www.w3.org/2000/svg\" height=\"24px\"viewBox=\"0 0 24 24\"\n",
              "     width=\"24px\">\n",
              "    <g>\n",
              "        <path d=\"M19 3H5c-1.1 0-2 .9-2 2v14c0 1.1.9 2 2 2h14c1.1 0 2-.9 2-2V5c0-1.1-.9-2-2-2zM9 17H7v-7h2v7zm4 0h-2V7h2v10zm4 0h-2v-4h2v4z\"/>\n",
              "    </g>\n",
              "</svg>\n",
              "  </button>\n",
              "\n",
              "<style>\n",
              "  .colab-df-quickchart {\n",
              "      --bg-color: #E8F0FE;\n",
              "      --fill-color: #1967D2;\n",
              "      --hover-bg-color: #E2EBFA;\n",
              "      --hover-fill-color: #174EA6;\n",
              "      --disabled-fill-color: #AAA;\n",
              "      --disabled-bg-color: #DDD;\n",
              "  }\n",
              "\n",
              "  [theme=dark] .colab-df-quickchart {\n",
              "      --bg-color: #3B4455;\n",
              "      --fill-color: #D2E3FC;\n",
              "      --hover-bg-color: #434B5C;\n",
              "      --hover-fill-color: #FFFFFF;\n",
              "      --disabled-bg-color: #3B4455;\n",
              "      --disabled-fill-color: #666;\n",
              "  }\n",
              "\n",
              "  .colab-df-quickchart {\n",
              "    background-color: var(--bg-color);\n",
              "    border: none;\n",
              "    border-radius: 50%;\n",
              "    cursor: pointer;\n",
              "    display: none;\n",
              "    fill: var(--fill-color);\n",
              "    height: 32px;\n",
              "    padding: 0;\n",
              "    width: 32px;\n",
              "  }\n",
              "\n",
              "  .colab-df-quickchart:hover {\n",
              "    background-color: var(--hover-bg-color);\n",
              "    box-shadow: 0 1px 2px rgba(60, 64, 67, 0.3), 0 1px 3px 1px rgba(60, 64, 67, 0.15);\n",
              "    fill: var(--button-hover-fill-color);\n",
              "  }\n",
              "\n",
              "  .colab-df-quickchart-complete:disabled,\n",
              "  .colab-df-quickchart-complete:disabled:hover {\n",
              "    background-color: var(--disabled-bg-color);\n",
              "    fill: var(--disabled-fill-color);\n",
              "    box-shadow: none;\n",
              "  }\n",
              "\n",
              "  .colab-df-spinner {\n",
              "    border: 2px solid var(--fill-color);\n",
              "    border-color: transparent;\n",
              "    border-bottom-color: var(--fill-color);\n",
              "    animation:\n",
              "      spin 1s steps(1) infinite;\n",
              "  }\n",
              "\n",
              "  @keyframes spin {\n",
              "    0% {\n",
              "      border-color: transparent;\n",
              "      border-bottom-color: var(--fill-color);\n",
              "      border-left-color: var(--fill-color);\n",
              "    }\n",
              "    20% {\n",
              "      border-color: transparent;\n",
              "      border-left-color: var(--fill-color);\n",
              "      border-top-color: var(--fill-color);\n",
              "    }\n",
              "    30% {\n",
              "      border-color: transparent;\n",
              "      border-left-color: var(--fill-color);\n",
              "      border-top-color: var(--fill-color);\n",
              "      border-right-color: var(--fill-color);\n",
              "    }\n",
              "    40% {\n",
              "      border-color: transparent;\n",
              "      border-right-color: var(--fill-color);\n",
              "      border-top-color: var(--fill-color);\n",
              "    }\n",
              "    60% {\n",
              "      border-color: transparent;\n",
              "      border-right-color: var(--fill-color);\n",
              "    }\n",
              "    80% {\n",
              "      border-color: transparent;\n",
              "      border-right-color: var(--fill-color);\n",
              "      border-bottom-color: var(--fill-color);\n",
              "    }\n",
              "    90% {\n",
              "      border-color: transparent;\n",
              "      border-bottom-color: var(--fill-color);\n",
              "    }\n",
              "  }\n",
              "</style>\n",
              "\n",
              "  <script>\n",
              "    async function quickchart(key) {\n",
              "      const quickchartButtonEl =\n",
              "        document.querySelector('#' + key + ' button');\n",
              "      quickchartButtonEl.disabled = true;  // To prevent multiple clicks.\n",
              "      quickchartButtonEl.classList.add('colab-df-spinner');\n",
              "      try {\n",
              "        const charts = await google.colab.kernel.invokeFunction(\n",
              "            'suggestCharts', [key], {});\n",
              "      } catch (error) {\n",
              "        console.error('Error during call to suggestCharts:', error);\n",
              "      }\n",
              "      quickchartButtonEl.classList.remove('colab-df-spinner');\n",
              "      quickchartButtonEl.classList.add('colab-df-quickchart-complete');\n",
              "    }\n",
              "    (() => {\n",
              "      let quickchartButtonEl =\n",
              "        document.querySelector('#df-fe420027-20af-4b51-add1-b92cc2189aa8 button');\n",
              "      quickchartButtonEl.style.display =\n",
              "        google.colab.kernel.accessAllowed ? 'block' : 'none';\n",
              "    })();\n",
              "  </script>\n",
              "</div>\n",
              "    </div>\n",
              "  </div>\n"
            ]
          },
          "metadata": {},
          "execution_count": 2
        }
      ]
    },
    {
      "cell_type": "code",
      "source": [
        "# Criar tabela com as colunas Annual Income e Spending Score\n",
        "df = df[['Annual Income (k$)','Spending Score (1-100)']]"
      ],
      "metadata": {
        "id": "Z89UxjIy8MhQ"
      },
      "execution_count": null,
      "outputs": []
    },
    {
      "cell_type": "code",
      "source": [
        "# Cálculo da soma dos quadrados intracluster\n",
        "distorcoes = []\n",
        "K = range(1,12)\n",
        "for k in K:\n",
        "    modelo01 = KMeans(n_clusters=k)\n",
        "    modelo01.fit(df)\n",
        "    distorcoes.append(modelo01.inertia_)"
      ],
      "metadata": {
        "id": "IGUUvGTk_Ukp"
      },
      "execution_count": null,
      "outputs": []
    },
    {
      "cell_type": "code",
      "source": [
        "# Plotagem do gráfico\n",
        "plt.plot(range(1, 12), distorcoes)\n",
        "plt.title(\"Método Elbow\")\n",
        "plt.xlabel(\"Número de clusters\")\n",
        "plt.ylabel(\"Soma dos quadrados intracluster\")\n",
        "plt.show()"
      ],
      "metadata": {
        "colab": {
          "base_uri": "https://localhost:8080/",
          "height": 472
        },
        "id": "Ds-723UsoiT7",
        "outputId": "4b5cfd13-42dc-4ee6-ce42-3c9225501757"
      },
      "execution_count": null,
      "outputs": [
        {
          "output_type": "display_data",
          "data": {
            "text/plain": [
              "<Figure size 640x480 with 1 Axes>"
            ],
            "image/png": "[encoded data removed]"
          },
          "metadata": {}
        }
      ]
    },
    {
      "cell_type": "markdown",
      "source": [
        "O valor ideal de k determinamos utilizando o método Elbow. Esse método consiste em plotar o valor da soma dos quadrados intracluster em função de k.\n",
        "\n",
        "O gráfico mostra que a soma dos quadrados começa a diminuir de forma significativa a partir de k = 5. Portanto, o valor ideal de k para o dataset \"Mall Customers\" é 5.\n",
        "\n",
        "Após determinar o valor de k, podemos treinar o modelo K-Means com 5 clusters. Para isso, utilizaremos a biblioteca scikit-learn."
      ],
      "metadata": {
        "id": "QtbmwaCoo0RU"
      }
    },
    {
      "cell_type": "code",
      "source": [
        "# Treinamento do modelo\n",
        "kmeanModel = KMeans(n_clusters=5)\n",
        "y_pred = kmeanModel.fit_predict(df)"
      ],
      "metadata": {
        "id": "E64mCE99pfDx"
      },
      "execution_count": null,
      "outputs": []
    },
    {
      "cell_type": "markdown",
      "source": [
        "Avaliando a qualidade dos clusters, utilizando a métrica Silhoutte Score, obtemos o seguinte resultado:"
      ],
      "metadata": {
        "id": "sAAOP1VrqDId"
      }
    },
    {
      "cell_type": "code",
      "source": [
        "silhouette_score = silhouette_score(df, y_pred)\n",
        "print(\"Silhouette Score:\", silhouette_score)"
      ],
      "metadata": {
        "colab": {
          "base_uri": "https://localhost:8080/"
        },
        "id": "w4QS_xMxqEib",
        "outputId": "98bc6700-0acc-4497-8355-8d0cdb4c717a"
      },
      "execution_count": null,
      "outputs": [
        {
          "output_type": "stream",
          "name": "stdout",
          "text": [
            "Silhouette Score: 0.553931997444648\n"
          ]
        }
      ]
    },
    {
      "cell_type": "markdown",
      "source": [
        "O resultado mostra que o Silhoutte Score é de 0,55, o que indica que os clusters são de boa qualidade.\n",
        "\n",
        "A seguir, apresento a distribuição dos clientes nos 5 clusters:"
      ],
      "metadata": {
        "id": "Tg2CJRgtsUfx"
      }
    },
    {
      "cell_type": "code",
      "source": [
        "# Distribuição dos clientes nos clusters\n",
        "for i in range(5):\n",
        "    print(f\"Cluster {i + 1}: {len(y_pred[y_pred == i])}\")"
      ],
      "metadata": {
        "colab": {
          "base_uri": "https://localhost:8080/"
        },
        "id": "eYslJbS0sVX6",
        "outputId": "fb735d52-1d21-48c6-80e9-c6c0381b5ba2"
      },
      "execution_count": null,
      "outputs": [
        {
          "output_type": "stream",
          "name": "stdout",
          "text": [
            "Cluster 1: 81\n",
            "Cluster 2: 39\n",
            "Cluster 3: 35\n",
            "Cluster 4: 22\n",
            "Cluster 5: 23\n"
          ]
        }
      ]
    },
    {
      "cell_type": "code",
      "source": [
        "# Visualização grafica do agrupamento dos clusters criada pelo algoritmo K-Means\n",
        "plt.figure(figsize=(6,5))\n",
        "df['k_means'] =kmeanModel.predict(df)\n",
        "plt.scatter(df['Annual Income (k$)'], df['Spending Score (1-100)'], c=df['k_means'], cmap=plt.cm.Set2)\n",
        "plt.title('Clusters criados pelo algoritmo K_Means', fontsize=13)\n",
        "plt.show()"
      ],
      "metadata": {
        "colab": {
          "base_uri": "https://localhost:8080/",
          "height": 468
        },
        "id": "H2AZlXXLtB5x",
        "outputId": "1b009d45-4812-454c-906d-8671c2883d9d"
      },
      "execution_count": null,
      "outputs": [
        {
          "output_type": "display_data",
          "data": {
            "text/plain": [
              "<Figure size 600x500 with 1 Axes>"
            ],
            "image/png": "[encoded data removed]"
          },
          "metadata": {}
        }
      ]
    },
    {
      "cell_type": "markdown",
      "source": [
        "O algoritmo K-Means foi capaz de agrupar os clientes em cinco clusters, com base nas características de receita anual e pontuação de gastos. Dessa forma, pudemos tirar algumas decisões:\n",
        "\n",
        "- Cluster 1: Clientes com alta renda e alta pontuação de gastos.\n",
        "- Cluster 2: Clientes com alta renda e baixa pontuação de gastos.\n",
        "- Cluster 3: Clientes com renda média e alta pontuação de gastos.\n",
        "- Cluster 4: Clientes com renda média e baixa pontuação de gastos.\n",
        "- Cluster 5: Clientes com baixa renda e baixa pontuação de gastos."
      ],
      "metadata": {
        "id": "QAxs6t6BveVZ"
      }
    },
    {
      "cell_type": "markdown",
      "source": [
        "# Questão 02 (1.50 pontos):\n",
        "\n",
        "- Usando o dataset Iris, utilize a técnica de redução de dimensionalidade Principal Component Analysis (PCA) e apresente os resultados."
      ],
      "metadata": {
        "id": "Pp0uY_4m8U2x"
      }
    },
    {
      "cell_type": "code",
      "source": [
        "#Importando bibliotecas\n",
        "import numpy as np\n",
        "import pandas as pd\n",
        "import matplotlib.pyplot as plt\n",
        "from sklearn.datasets import load_iris\n",
        "from sklearn.preprocessing import StandardScaler\n",
        "from sklearn.decomposition import PCA\n",
        "%matplotlib inline\n",
        "from sklearn.cluster import KMeans\n",
        "from sklearn import datasets"
      ],
      "metadata": {
        "id": "Wb2EU2GA8zwC"
      },
      "execution_count": null,
      "outputs": []
    },
    {
      "cell_type": "code",
      "source": [
        "# Carregando o conjunto de dados Iris\n",
        "iris = load_iris()\n",
        "X = iris.data\n",
        "y = iris.target\n",
        "feature_names = iris.feature_names"
      ],
      "metadata": {
        "id": "RWhEi4rOxRUw"
      },
      "execution_count": null,
      "outputs": []
    },
    {
      "cell_type": "markdown",
      "source": [
        "Agora, aplicamos o PCA ao conjunto de dados, especificando que queremos reduzir a dimensionalidade para dois componentes principais:"
      ],
      "metadata": {
        "id": "ChhLKnGby42P"
      }
    },
    {
      "cell_type": "code",
      "source": [
        "pca = PCA(n_components=2)\n",
        "X_pca = pca.fit_transform(X)"
      ],
      "metadata": {
        "id": "TpYJRdDP9CA-"
      },
      "execution_count": null,
      "outputs": []
    },
    {
      "cell_type": "markdown",
      "source": [
        "A função fit_transform() calcula os componentes principais e os aplica ao conjunto de dados. Os componentes principais são armazenados na variável X_pca."
      ],
      "metadata": {
        "id": "ebd7_seEy0kW"
      }
    },
    {
      "cell_type": "code",
      "source": [
        "# Criando um DataFrame para visualização\n",
        "pca_df = pd.DataFrame(data=X_pca, columns=['Componente Principal 1', 'Componente Principal 2'])\n",
        "pca_df['Target'] = y"
      ],
      "metadata": {
        "id": "n1gWDAZ69Bvj"
      },
      "execution_count": null,
      "outputs": []
    },
    {
      "cell_type": "code",
      "source": [
        "# Plotando os resultados\n",
        "plt.figure(figsize=(10, 6))\n",
        "targets = [0, 1]\n",
        "colors = ['r', 'g']\n",
        "for target, color in zip(targets, colors):\n",
        "    indices_to_keep = pca_df['Target'] == target\n",
        "    plt.scatter(\n",
        "        pca_df.loc[indices_to_keep, 'Componente Principal 1'],\n",
        "        pca_df.loc[indices_to_keep, 'Componente Principal 2'],\n",
        "        c=color,\n",
        "        s=50,\n",
        "    )\n",
        "plt.legend(targets)\n",
        "plt.xlabel('Componente Principal 1')\n",
        "plt.ylabel('Componente Principal 2')\n",
        "plt.title('PCA - Análise de Componentes Principais')\n",
        "plt.show()"
      ],
      "metadata": {
        "id": "qnHEjpFV_UBv",
        "colab": {
          "base_uri": "https://localhost:8080/",
          "height": 565
        },
        "outputId": "cf03cd6e-36c4-4d30-fbb2-440f96a48de1"
      },
      "execution_count": null,
      "outputs": [
        {
          "output_type": "display_data",
          "data": {
            "text/plain": [
              "<Figure size 1000x600 with 1 Axes>"
            ],
            "image/png": "[encoded data removed]"
          },
          "metadata": {}
        }
      ]
    },
    {
      "cell_type": "markdown",
      "source": [
        "O gráfico mostra que os dados estão bem separados de acordo com suas espécies. Isso sugere que a PCA foi bem-sucedida em preservar a informação relevante contida no conjunto de dados original.\n",
        "\n",
        "Para avaliar a qualidade da redução de dimensionalidade, podemos calcular a variância explicada pelos componentes principais. A variância explicada é a proporção da variância total dos dados que é explicada por cada componente principal."
      ],
      "metadata": {
        "id": "-CEs2tsYyMjk"
      }
    },
    {
      "cell_type": "code",
      "source": [
        "print(pca.explained_variance_ratio_)"
      ],
      "metadata": {
        "colab": {
          "base_uri": "https://localhost:8080/"
        },
        "id": "ylMRHkB9yV_2",
        "outputId": "9f4ab2de-5c29-401a-d07b-1c2264d05749"
      },
      "execution_count": null,
      "outputs": [
        {
          "output_type": "stream",
          "name": "stdout",
          "text": [
            "[0.92461872 0.05306648]\n"
          ]
        }
      ]
    },
    {
      "cell_type": "markdown",
      "source": [
        "Esse resultado indica que o primeiro componente principal explica 92,46% da variância total dos dados, enquanto o segundo componente principal explica 5,30%. Isso significa que, ao reduzir a dimensionalidade do conjunto de dados para dois componentes principais, estamos perdendo apenas 0,02% da informação relevante.\n",
        "\n",
        "Em conclusão, a PCA foi bem-sucedida em reduzir a dimensionalidade do conjunto de dados Iris sem perder muita informação. Os dois componentes principais obtidos são capazes de representar de forma eficaz as diferenças entre as três espécies de flores."
      ],
      "metadata": {
        "id": "VVX55bPKyZCc"
      }
    },
    {
      "cell_type": "markdown",
      "source": [
        "# Questão 03 (6.00 pontos):\n",
        "\n",
        "- Escolher um dataset de sua preferência que possua ao menos uma coluna com valores categóricos para ser utilizada como \"Target\".\n",
        "\n",
        "- Não utilize os datasets utilizados em aula (Mall Customers, Iris, House Power Consumption e Adult Census).\n",
        "\n",
        "- Aplicar a técnica de redução de dimensionalidade, usando o algoritmo PCA.\n",
        "\n",
        "- Com base no novo dataset (após a aplicação da redução), utilizar um algoritmo de classificação treinar um modelos de classificação e calcular sua acurácia."
      ],
      "metadata": {
        "id": "K9we1Afu9OMh"
      }
    },
    {
      "cell_type": "code",
      "source": [
        "# Importação das Bibliotecas\n",
        "import pandas as pd\n",
        "from sklearn.preprocessing import StandardScaler, LabelEncoder\n",
        "from sklearn.decomposition import PCA\n",
        "from sklearn.model_selection import train_test_split\n",
        "from sklearn.ensemble import RandomForestClassifier\n",
        "from sklearn.metrics import accuracy_score, classification_report\n",
        "from sklearn.linear_model import LogisticRegression\n",
        "from sklearn.svm import SVC\n",
        "from sklearn.neighbors import KNeighborsClassifier"
      ],
      "metadata": {
        "id": "sgBwWAUe_TPz"
      },
      "execution_count": null,
      "outputs": []
    },
    {
      "cell_type": "code",
      "source": [
        "# Carregar o dataset\n",
        "data = pd.read_csv(\"content/homicide-data.csv\", encoding=\"ISO-8859-1\")\n",
        "df = data[['reported_date', 'victim_race', 'victim_age', 'victim_sex', 'city', 'state', 'disposition']]"
      ],
      "metadata": {
        "id": "C6kvGrKi_S0v"
      },
      "execution_count": null,
      "outputs": []
    },
    {
      "cell_type": "markdown",
      "source": [
        "Carregamos nosso conjunto de dados de homicídios e selecionamos as colunas que são relevantes para a nossa análise."
      ],
      "metadata": {
        "id": "QA6xQGVWxTA4"
      }
    },
    {
      "cell_type": "markdown",
      "source": [
        "Dados incompletos ou desconhecidos podem confundir nosso modelo. Vamos remover as linhas nas quais a idade da vítima é 'Unknown'. Depois, precisamos converter algumas colunas, como 'reported_date', para um formato numérico, para que os modelos possam entendê-las."
      ],
      "metadata": {
        "id": "iwQbEV1wxbso"
      }
    },
    {
      "cell_type": "markdown",
      "source": [
        "Modelos de machine learning preferem números a palavras. Então, vamos transformar nossas colunas categóricas, em números."
      ],
      "metadata": {
        "id": "eHyLST75xo_p"
      }
    },
    {
      "cell_type": "code",
      "source": [
        "# Pré-processamento\n",
        "df = df[df['victim_age'] != \"Unknown\"]\n",
        "df['reported_date'] = pd.to_numeric(df['reported_date'])\n",
        "\n",
        "label_encoders = {\n",
        "    'victim_race': LabelEncoder(),\n",
        "    'victim_age': LabelEncoder(),\n",
        "    'victim_sex': LabelEncoder(),\n",
        "    'city': LabelEncoder(),\n",
        "    'state': LabelEncoder(),\n",
        "    'disposition': LabelEncoder()\n",
        "}\n",
        "\n",
        "for column, encoder in label_encoders.items():\n",
        "    df[column] = encoder.fit_transform(df[column])\n",
        "\n",
        "display(df.head())"
      ],
      "metadata": {
        "colab": {
          "base_uri": "https://localhost:8080/",
          "height": 206
        },
        "id": "h8rU6rQo6ron",
        "outputId": "6b0cd55c-2bdd-462f-880d-7608380536c0"
      },
      "execution_count": null,
      "outputs": [
        {
          "output_type": "display_data",
          "data": {
            "text/plain": [
              "   reported_date  victim_race  victim_age  victim_sex  city  state  \\\n",
              "0       20100504            2          78           1     0     17   \n",
              "1       20100216            2          11           1     0     17   \n",
              "2       20100601            5           9           0     0     17   \n",
              "3       20100101            2          28           1     0     17   \n",
              "4       20100102            5          72           0     0     17   \n",
              "\n",
              "   disposition  \n",
              "0            1  \n",
              "1            0  \n",
              "2            1  \n",
              "3            0  \n",
              "4            1  "
            ],
            "text/html": [
              "\n",
              "  <div id=\"df-c2b559ac-5573-4c76-9932-bedfa5d88a68\" class=\"colab-df-container\">\n",
              "    <div>\n",
              "<style scoped>\n",
              "    .dataframe tbody tr th:only-of-type {\n",
              "        vertical-align: middle;\n",
              "    }\n",
              "\n",
              "    .dataframe tbody tr th {\n",
              "        vertical-align: top;\n",
              "    }\n",
              "\n",
              "    .dataframe thead th {\n",
              "        text-align: right;\n",
              "    }\n",
              "</style>\n",
              "<table border=\"1\" class=\"dataframe\">\n",
              "  <thead>\n",
              "    <tr style=\"text-align: right;\">\n",
              "      <th></th>\n",
              "      <th>reported_date</th>\n",
              "      <th>victim_race</th>\n",
              "      <th>victim_age</th>\n",
              "      <th>victim_sex</th>\n",
              "      <th>city</th>\n",
              "      <th>state</th>\n",
              "      <th>disposition</th>\n",
              "    </tr>\n",
              "  </thead>\n",
              "  <tbody>\n",
              "    <tr>\n",
              "      <th>0</th>\n",
              "      <td>20100504</td>\n",
              "      <td>2</td>\n",
              "      <td>78</td>\n",
              "      <td>1</td>\n",
              "      <td>0</td>\n",
              "      <td>17</td>\n",
              "      <td>1</td>\n",
              "    </tr>\n",
              "    <tr>\n",
              "      <th>1</th>\n",
              "      <td>20100216</td>\n",
              "      <td>2</td>\n",
              "      <td>11</td>\n",
              "      <td>1</td>\n",
              "      <td>0</td>\n",
              "      <td>17</td>\n",
              "      <td>0</td>\n",
              "    </tr>\n",
              "    <tr>\n",
              "      <th>2</th>\n",
              "      <td>20100601</td>\n",
              "      <td>5</td>\n",
              "      <td>9</td>\n",
              "      <td>0</td>\n",
              "      <td>0</td>\n",
              "      <td>17</td>\n",
              "      <td>1</td>\n",
              "    </tr>\n",
              "    <tr>\n",
              "      <th>3</th>\n",
              "      <td>20100101</td>\n",
              "      <td>2</td>\n",
              "      <td>28</td>\n",
              "      <td>1</td>\n",
              "      <td>0</td>\n",
              "      <td>17</td>\n",
              "      <td>0</td>\n",
              "    </tr>\n",
              "    <tr>\n",
              "      <th>4</th>\n",
              "      <td>20100102</td>\n",
              "      <td>5</td>\n",
              "      <td>72</td>\n",
              "      <td>0</td>\n",
              "      <td>0</td>\n",
              "      <td>17</td>\n",
              "      <td>1</td>\n",
              "    </tr>\n",
              "  </tbody>\n",
              "</table>\n",
              "</div>\n",
              "    <div class=\"colab-df-buttons\">\n",
              "\n",
              "  <div class=\"colab-df-container\">\n",
              "    <button class=\"colab-df-convert\" onclick=\"convertToInteractive('df-c2b559ac-5573-4c76-9932-bedfa5d88a68')\"\n",
              "            title=\"Convert this dataframe to an interactive table.\"\n",
              "            style=\"display:none;\">\n",
              "\n",
              "  <svg xmlns=\"http://www.w3.org/2000/svg\" height=\"24px\" viewBox=\"0 -960 960 960\">\n",
              "    <path d=\"M120-120v-720h720v720H120Zm60-500h600v-160H180v160Zm220 220h160v-160H400v160Zm0 220h160v-160H400v160ZM180-400h160v-160H180v160Zm440 0h160v-160H620v160ZM180-180h160v-160H180v160Zm440 0h160v-160H620v160Z\"/>\n",
              "  </svg>\n",
              "    </button>\n",
              "\n",
              "  <style>\n",
              "    .colab-df-container {\n",
              "      display:flex;\n",
              "      gap: 12px;\n",
              "    }\n",
              "\n",
              "    .colab-df-convert {\n",
              "      background-color: #E8F0FE;\n",
              "      border: none;\n",
              "      border-radius: 50%;\n",
              "      cursor: pointer;\n",
              "      display: none;\n",
              "      fill: #1967D2;\n",
              "      height: 32px;\n",
              "      padding: 0 0 0 0;\n",
              "      width: 32px;\n",
              "    }\n",
              "\n",
              "    .colab-df-convert:hover {\n",
              "      background-color: #E2EBFA;\n",
              "      box-shadow: 0px 1px 2px rgba(60, 64, 67, 0.3), 0px 1px 3px 1px rgba(60, 64, 67, 0.15);\n",
              "      fill: #174EA6;\n",
              "    }\n",
              "\n",
              "    .colab-df-buttons div {\n",
              "      margin-bottom: 4px;\n",
              "    }\n",
              "\n",
              "    [theme=dark] .colab-df-convert {\n",
              "      background-color: #3B4455;\n",
              "      fill: #D2E3FC;\n",
              "    }\n",
              "\n",
              "    [theme=dark] .colab-df-convert:hover {\n",
              "      background-color: #434B5C;\n",
              "      box-shadow: 0px 1px 3px 1px rgba(0, 0, 0, 0.15);\n",
              "      filter: drop-shadow(0px 1px 2px rgba(0, 0, 0, 0.3));\n",
              "      fill: #FFFFFF;\n",
              "    }\n",
              "  </style>\n",
              "\n",
              "    <script>\n",
              "      const buttonEl =\n",
              "        document.querySelector('#df-c2b559ac-5573-4c76-9932-bedfa5d88a68 button.colab-df-convert');\n",
              "      buttonEl.style.display =\n",
              "        google.colab.kernel.accessAllowed ? 'block' : 'none';\n",
              "\n",
              "      async function convertToInteractive(key) {\n",
              "        const element = document.querySelector('#df-c2b559ac-5573-4c76-9932-bedfa5d88a68');\n",
              "        const dataTable =\n",
              "          await google.colab.kernel.invokeFunction('convertToInteractive',\n",
              "                                                    [key], {});\n",
              "        if (!dataTable) return;\n",
              "\n",
              "        const docLinkHtml = 'Like what you see? Visit the ' +\n",
              "          '<a target=\"_blank\" href=https://colab.research.google.com/notebooks/data_table.ipynb>data table notebook</a>'\n",
              "          + ' to learn more about interactive tables.';\n",
              "        element.innerHTML = '';\n",
              "        dataTable['output_type'] = 'display_data';\n",
              "        await google.colab.output.renderOutput(dataTable, element);\n",
              "        const docLink = document.createElement('div');\n",
              "        docLink.innerHTML = docLinkHtml;\n",
              "        element.appendChild(docLink);\n",
              "      }\n",
              "    </script>\n",
              "  </div>\n",
              "\n",
              "\n",
              "<div id=\"df-e82b6507-cd65-4362-8676-192c5f9811ce\">\n",
              "  <button class=\"colab-df-quickchart\" onclick=\"quickchart('df-e82b6507-cd65-4362-8676-192c5f9811ce')\"\n",
              "            title=\"Suggest charts.\"\n",
              "            style=\"display:none;\">\n",
              "\n",
              "<svg xmlns=\"http://www.w3.org/2000/svg\" height=\"24px\"viewBox=\"0 0 24 24\"\n",
              "     width=\"24px\">\n",
              "    <g>\n",
              "        <path d=\"M19 3H5c-1.1 0-2 .9-2 2v14c0 1.1.9 2 2 2h14c1.1 0 2-.9 2-2V5c0-1.1-.9-2-2-2zM9 17H7v-7h2v7zm4 0h-2V7h2v10zm4 0h-2v-4h2v4z\"/>\n",
              "    </g>\n",
              "</svg>\n",
              "  </button>\n",
              "\n",
              "<style>\n",
              "  .colab-df-quickchart {\n",
              "      --bg-color: #E8F0FE;\n",
              "      --fill-color: #1967D2;\n",
              "      --hover-bg-color: #E2EBFA;\n",
              "      --hover-fill-color: #174EA6;\n",
              "      --disabled-fill-color: #AAA;\n",
              "      --disabled-bg-color: #DDD;\n",
              "  }\n",
              "\n",
              "  [theme=dark] .colab-df-quickchart {\n",
              "      --bg-color: #3B4455;\n",
              "      --fill-color: #D2E3FC;\n",
              "      --hover-bg-color: #434B5C;\n",
              "      --hover-fill-color: #FFFFFF;\n",
              "      --disabled-bg-color: #3B4455;\n",
              "      --disabled-fill-color: #666;\n",
              "  }\n",
              "\n",
              "  .colab-df-quickchart {\n",
              "    background-color: var(--bg-color);\n",
              "    border: none;\n",
              "    border-radius: 50%;\n",
              "    cursor: pointer;\n",
              "    display: none;\n",
              "    fill: var(--fill-color);\n",
              "    height: 32px;\n",
              "    padding: 0;\n",
              "    width: 32px;\n",
              "  }\n",
              "\n",
              "  .colab-df-quickchart:hover {\n",
              "    background-color: var(--hover-bg-color);\n",
              "    box-shadow: 0 1px 2px rgba(60, 64, 67, 0.3), 0 1px 3px 1px rgba(60, 64, 67, 0.15);\n",
              "    fill: var(--button-hover-fill-color);\n",
              "  }\n",
              "\n",
              "  .colab-df-quickchart-complete:disabled,\n",
              "  .colab-df-quickchart-complete:disabled:hover {\n",
              "    background-color: var(--disabled-bg-color);\n",
              "    fill: var(--disabled-fill-color);\n",
              "    box-shadow: none;\n",
              "  }\n",
              "\n",
              "  .colab-df-spinner {\n",
              "    border: 2px solid var(--fill-color);\n",
              "    border-color: transparent;\n",
              "    border-bottom-color: var(--fill-color);\n",
              "    animation:\n",
              "      spin 1s steps(1) infinite;\n",
              "  }\n",
              "\n",
              "  @keyframes spin {\n",
              "    0% {\n",
              "      border-color: transparent;\n",
              "      border-bottom-color: var(--fill-color);\n",
              "      border-left-color: var(--fill-color);\n",
              "    }\n",
              "    20% {\n",
              "      border-color: transparent;\n",
              "      border-left-color: var(--fill-color);\n",
              "      border-top-color: var(--fill-color);\n",
              "    }\n",
              "    30% {\n",
              "      border-color: transparent;\n",
              "      border-left-color: var(--fill-color);\n",
              "      border-top-color: var(--fill-color);\n",
              "      border-right-color: var(--fill-color);\n",
              "    }\n",
              "    40% {\n",
              "      border-color: transparent;\n",
              "      border-right-color: var(--fill-color);\n",
              "      border-top-color: var(--fill-color);\n",
              "    }\n",
              "    60% {\n",
              "      border-color: transparent;\n",
              "      border-right-color: var(--fill-color);\n",
              "    }\n",
              "    80% {\n",
              "      border-color: transparent;\n",
              "      border-right-color: var(--fill-color);\n",
              "      border-bottom-color: var(--fill-color);\n",
              "    }\n",
              "    90% {\n",
              "      border-color: transparent;\n",
              "      border-bottom-color: var(--fill-color);\n",
              "    }\n",
              "  }\n",
              "</style>\n",
              "\n",
              "  <script>\n",
              "    async function quickchart(key) {\n",
              "      const quickchartButtonEl =\n",
              "        document.querySelector('#' + key + ' button');\n",
              "      quickchartButtonEl.disabled = true;  // To prevent multiple clicks.\n",
              "      quickchartButtonEl.classList.add('colab-df-spinner');\n",
              "      try {\n",
              "        const charts = await google.colab.kernel.invokeFunction(\n",
              "            'suggestCharts', [key], {});\n",
              "      } catch (error) {\n",
              "        console.error('Error during call to suggestCharts:', error);\n",
              "      }\n",
              "      quickchartButtonEl.classList.remove('colab-df-spinner');\n",
              "      quickchartButtonEl.classList.add('colab-df-quickchart-complete');\n",
              "    }\n",
              "    (() => {\n",
              "      let quickchartButtonEl =\n",
              "        document.querySelector('#df-e82b6507-cd65-4362-8676-192c5f9811ce button');\n",
              "      quickchartButtonEl.style.display =\n",
              "        google.colab.kernel.accessAllowed ? 'block' : 'none';\n",
              "    })();\n",
              "  </script>\n",
              "</div>\n",
              "    </div>\n",
              "  </div>\n"
            ]
          },
          "metadata": {}
        }
      ]
    },
    {
      "cell_type": "markdown",
      "source": [
        "Antes de treinar nosso modelo, dividimos nosso conjunto de dados em dois: um conjunto de treino e um conjunto de teste. O primeiro é usado para ensinar o modelo e o segundo para testá-lo."
      ],
      "metadata": {
        "id": "QKIKCs4Kx1fF"
      }
    },
    {
      "cell_type": "code",
      "source": [
        "# Separar o conjunto de treino e teste\n",
        "X_train, X_test, y_train, y_test = train_test_split(df.drop(\"victim_race\", axis=1), df[\"victim_race\"], test_size=0.2)"
      ],
      "metadata": {
        "id": "r81XqytE_Srh"
      },
      "execution_count": null,
      "outputs": []
    },
    {
      "cell_type": "markdown",
      "source": [
        "Modelos, especialmente alguns como KNN, funcionam melhor quando os dados estão em uma escala similar. Vamos padronizá-los para que todos tenham média 0 e desvio padrão 1."
      ],
      "metadata": {
        "id": "4qk9xrbTx74B"
      }
    },
    {
      "cell_type": "code",
      "source": [
        "# Padronizar os dados\n",
        "scaler = StandardScaler()\n",
        "X_train = scaler.fit_transform(X_train)\n",
        "X_test = scaler.transform(X_test)"
      ],
      "metadata": {
        "id": "3qmOBXhmz0x7"
      },
      "execution_count": null,
      "outputs": []
    },
    {
      "cell_type": "markdown",
      "source": [
        "Às vezes, podemos simplificar os dados sem perder muita informação. O PCA nos ajuda com isso. Aqui, descobrimos quantos componentes principais precisamos para reter 80% da informação original."
      ],
      "metadata": {
        "id": "eQmrmSRjyBBC"
      }
    },
    {
      "cell_type": "code",
      "source": [
        "pca = PCA()\n",
        "X_train_pca = pca.fit_transform(X_train)\n",
        "explained_var_ratio = pca.explained_variance_ratio_.cumsum()\n",
        "\n",
        "optimal_n_components = len(explained_var_ratio[explained_var_ratio <= 0.80])\n",
        "print(f\"O número ótimo de componentes que explicam 80% da variação é: {optimal_n_components}\")\n",
        "\n",
        "X_train_pca = X_train_pca[:, :optimal_n_components]\n",
        "X_test_pca = pca.transform(X_test)[:, :optimal_n_components]"
      ],
      "metadata": {
        "colab": {
          "base_uri": "https://localhost:8080/"
        },
        "id": "b-SaqDtyz07z",
        "outputId": "8deee113-39a6-426e-b2e8-7a41d244b1c8"
      },
      "execution_count": null,
      "outputs": [
        {
          "output_type": "stream",
          "name": "stdout",
          "text": [
            "O número ótimo de componentes que explicam 80% da variação é: 4\n"
          ]
        }
      ]
    },
    {
      "cell_type": "markdown",
      "source": [
        "Após treinarmos diversos modelos com os nossos dados, incluindo Random Forest, Regressão Logística, SVM e KNN, agora é hora de avaliar o seu desempenho. Ao final da análise, apresentaremos as métricas de desempenho, com destaque para a acurácia, para cada um dos modelos."
      ],
      "metadata": {
        "id": "FxsDE_qkyHE6"
      }
    },
    {
      "cell_type": "code",
      "source": [
        "# 4. Modelos e Avaliação\n",
        "models = {\n",
        "    'Random Forest': RandomForestClassifier(n_estimators=100),\n",
        "    'Logistic Regression': LogisticRegression(max_iter=10000),\n",
        "    'SVM': SVC(),\n",
        "    'KNN': KNeighborsClassifier()\n",
        "}\n",
        "\n",
        "for name, model in models.items():\n",
        "    model.fit(X_train_pca, y_train)\n",
        "    y_pred = model.predict(X_test_pca)\n",
        "    accuracy = accuracy_score(y_test, y_pred)\n",
        "\n",
        "    print(f\"\\nModelo: {name}\")\n",
        "    print(f\"Acurácia: {accuracy}\")\n",
        "    print(classification_report(y_test, y_pred))"
      ],
      "metadata": {
        "colab": {
          "base_uri": "https://localhost:8080/"
        },
        "id": "6SFxSQxBz1Iv",
        "outputId": "9aeb7dd2-8017-499e-9a75-d4620680fa86"
      },
      "execution_count": null,
      "outputs": [
        {
          "output_type": "stream",
          "name": "stdout",
          "text": [
            "\n",
            "Modelo: Random Forest\n",
            "Acurácia: 0.6642944286295241\n",
            "              precision    recall  f1-score   support\n",
            "\n",
            "           0       0.05      0.02      0.03       124\n",
            "           1       0.74      0.84      0.79      6652\n",
            "           2       0.35      0.25      0.29      1369\n",
            "           3       0.24      0.10      0.14       131\n",
            "           4       0.99      0.97      0.98       319\n",
            "           5       0.29      0.20      0.24      1241\n",
            "\n",
            "    accuracy                           0.66      9836\n",
            "   macro avg       0.44      0.40      0.41      9836\n",
            "weighted avg       0.62      0.66      0.64      9836\n",
            "\n",
            "\n",
            "Modelo: Logistic Regression\n",
            "Acurácia: 0.7070963806425377\n",
            "              precision    recall  f1-score   support\n",
            "\n",
            "           0       0.00      0.00      0.00       124\n",
            "           1       0.70      0.98      0.82      6652\n",
            "           2       0.00      0.00      0.00      1369\n",
            "           3       0.00      0.00      0.00       131\n",
            "           4       0.97      0.97      0.97       319\n",
            "           5       0.45      0.08      0.14      1241\n",
            "\n",
            "    accuracy                           0.71      9836\n",
            "   macro avg       0.36      0.34      0.32      9836\n",
            "weighted avg       0.57      0.71      0.60      9836\n",
            "\n",
            "\n",
            "Modelo: SVM\n",
            "Acurácia: 0.7092313948759659\n",
            "              precision    recall  f1-score   support\n",
            "\n",
            "           0       0.00      0.00      0.00       124\n",
            "           1       0.70      1.00      0.82      6652\n",
            "           2       0.00      0.00      0.00      1369\n",
            "           3       0.00      0.00      0.00       131\n",
            "           4       0.99      0.97      0.98       319\n",
            "           5       0.56      0.03      0.06      1241\n",
            "\n",
            "    accuracy                           0.71      9836\n",
            "   macro avg       0.37      0.33      0.31      9836\n",
            "weighted avg       0.58      0.71      0.60      9836\n",
            "\n",
            "\n",
            "Modelo: KNN\n",
            "Acurácia: 0.6930662871085808\n",
            "              precision    recall  f1-score   support\n",
            "\n",
            "           0       0.10      0.03      0.05       124\n",
            "           1       0.74      0.90      0.81      6652\n",
            "           2       0.37      0.25      0.30      1369\n",
            "           3       0.50      0.07      0.12       131\n",
            "           4       0.99      0.97      0.98       319\n",
            "           5       0.37      0.16      0.22      1241\n",
            "\n",
            "    accuracy                           0.69      9836\n",
            "   macro avg       0.51      0.39      0.41      9836\n",
            "weighted avg       0.64      0.69      0.65      9836\n",
            "\n"
          ]
        }
      ]
    },
    {
      "cell_type": "code",
      "source": [
        "race_mapping = dict(zip(range(len(label_encoders['victim_race'].classes_)), label_encoders['victim_race'].classes_))\n",
        "print(race_mapping)"
      ],
      "metadata": {
        "colab": {
          "base_uri": "https://localhost:8080/"
        },
        "id": "Ad_YAEvD278U",
        "outputId": "5f3c4846-e638-4c18-ed9f-9327573ec99d"
      },
      "execution_count": null,
      "outputs": [
        {
          "output_type": "stream",
          "name": "stdout",
          "text": [
            "{0: 'Asian', 1: 'Black', 2: 'Hispanic', 3: 'Other', 4: 'Unknown', 5: 'White'}\n"
          ]
        }
      ]
    },
    {
      "cell_type": "markdown",
      "source": [
        "Na análise deste conjunto de dados que explora as circunstâncias trágicas dos homicídios, fizemos a previsão da raça da vítima baseando-se em diversas características associadas ao crime. Aqui está uma avaliação detalhada da performance de cada modelo nesta tarefa crítica:\n",
        "\n",
        "**Random Forest**: Este modelo exibiu uma acurácia geral de aproximadamente 66%. No entanto, observamos que a precisão, a revocação e o f1-score variaram significativamente entre as diferentes categorias de raça. Por exemplo, teve uma alta precisão na identificação da categoria 1, mas uma baixa eficácia na categoria 0. Isso indica que ele foi bastante competente em identificar corretamente algumas raças, mas falhou significativamente em outras.\n",
        "\n",
        "**Regressão Logística**: Atingindo 70% de acurácia, este modelo mostrou uma forte tendência para prever a categoria 1 corretamente, com outras categorias sendo negligenciadas, como evidenciado pela revocação quase nula para categorias como 0, 2 e 3. Isso pode sugerir que as características dominantes estão concentradas na categoria 1.\n",
        "\n",
        "**SVM**: Este modelo, apresentando uma acurácia de 70%, mostrou uma tendência semelhante à regressão logística, com uma forte inclinação para a categoria 1 e quase ignorando outras categorias. Isso sugere que pode haver uma predominância de características de uma raça específica no dataset, levando a uma performance enviesada.\n",
        "\n",
        "**KNN**: Com cerca de 69% de acurácia, o KNN apresentou uma distribuição mais equitativa de precisão e revocação entre as categorias, embora ainda mostrasse uma preferência pela categoria 1. A presença de alguma variação nas métricas indica que ele foi capaz de capturar, até certo ponto, as diferenças distintas entre as raças.\n",
        "\n",
        "Ao considerar essas observações, torna-se evidente que, enquanto os modelos podem identificar certas raças com uma precisão razoável, há uma lacuna significativa na identificação correta de outras."
      ],
      "metadata": {
        "id": "Z579x6G84HO1"
      }
    },
    {
      "cell_type": "markdown",
      "source": [
        "### Questão Extra (+1.00 ponto)\n",
        "\n",
        "- Além da resolução em Python, apresente uma solução para a Questão 03 utilizando o software Orange Data Mining.\n",
        "\n",
        "- Anexe o arquivo .ows (do Orange) juntamente com o arquivo deste notebook.\n"
      ],
      "metadata": {
        "id": "5QKagK61_30x"
      }
    }
  ]
}