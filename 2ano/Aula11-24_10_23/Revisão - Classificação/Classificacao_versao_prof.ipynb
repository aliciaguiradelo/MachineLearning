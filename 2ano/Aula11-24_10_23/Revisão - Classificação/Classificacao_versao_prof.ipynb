{
  "metadata": {
    "kernelspec": {
      "language": "python",
      "display_name": "Python 3",
      "name": "python3"
    },
    "language_info": {
      "pygments_lexer": "ipython3",
      "nbconvert_exporter": "python",
      "version": "3.6.4",
      "file_extension": ".py",
      "codemirror_mode": {
        "name": "ipython",
        "version": 3
      },
      "name": "python",
      "mimetype": "text/x-python"
    },
    "colab": {
      "provenance": []
    }
  },
  "nbformat_minor": 0,
  "nbformat": 4,
  "cells": [
    {
      "cell_type": "markdown",
      "source": [
        "# **NOÇÕES DE APRENDIZAGEM DE MÁQUINA UTILIZANDO SKLEARN EM UM PROBLEMA DE CLASSIFICAÇÃO**"
      ],
      "metadata": {
        "id": "2I25jpkxBlTf"
      }
    },
    {
      "cell_type": "markdown",
      "source": [
        "## *Os problemas de classificação são aqueles onde se busca encontrar uma classe, dentro das possibilidades limitadas existentes.*"
      ],
      "metadata": {
        "id": "pkbyAzAYBlTm"
      }
    },
    {
      "cell_type": "markdown",
      "source": [
        "## Etapas do machine learning\n",
        "1. Coleta e análise dados: *Trata-se de um momento crucial para o resultado final, pois a quantidade e a qualidade das informações determina o quão preditivo o modelo de machine learning vai ser.*\n",
        "2. Preparação dos dados: *verificar se as informações coletadas estão bem distribuídas ou se são tendenciosas.*\n",
        "3. Escolha do modelo: *classificação binária, classificação multiclasse ou regressão, por exemplo.*\n",
        "4. Treinamento: Utilizando um algoritmo de classificação - *A etapa do treinamento é fundamental não apenas para preparar a máquina, mas para aprimorar constantemente suas habilidades de previsão.*\n",
        "5. Avaliação: *A avaliação permite testar o modelo com as informações não utilizadas no treinamento; isso é importante para verificar se a máquina realmente foi capaz de aprender, e não apenas de memorizar respostas anteriores.*"
      ],
      "metadata": {
        "id": "5iRGtm5nBlTn"
      }
    },
    {
      "cell_type": "markdown",
      "source": [
        "# IMPORTANDO BIBLIOTECAS"
      ],
      "metadata": {
        "id": "LJugesybBlTo"
      }
    },
    {
      "cell_type": "code",
      "source": [
        "import pandas as pd\n",
        "\n",
        "# Pacotes para avaliação dos modelos\n",
        "from sklearn.metrics import classification_report\n",
        "from sklearn.metrics import confusion_matrix\n",
        "from sklearn.metrics import accuracy_score\n",
        "\n",
        "# Pacotes para utilização dos algoritmos KNN e Support Vector Classifier (SVC)\n",
        "from sklearn.neighbors import KNeighborsClassifier\n",
        "# https://scikit-learn.org/stable/modules/generated/sklearn.neighbors.KNeighborsClassifier.html\n",
        "\n",
        "from sklearn.svm import SVC\n",
        "# https://scikit-learn.org/stable/modules/generated/sklearn.svm.SVC.html\n",
        "\n",
        "# Pacote para conversão de colunas numéricas em colunas categóricas\n",
        "from sklearn.preprocessing import LabelEncoder\n",
        "# https://scikit-learn.org/stable/modules/generated/sklearn.preprocessing.LabelEncoder.html\n",
        "\n",
        "# Pacote para separação dos dados para treino e teste\n",
        "from sklearn.model_selection import train_test_split\n",
        "# https://scikit-learn.org/stable/modules/generated/sklearn.model_selection.train_test_split.html"
      ],
      "metadata": {
        "_uuid": "8f2839f25d086af736a60e9eeb907d3b93b6e0e5",
        "_cell_guid": "b1076dfc-b9ad-4769-8c92-a6c4dae69d19",
        "execution": {
          "iopub.status.busy": "2021-12-09T18:16:41.821762Z",
          "iopub.execute_input": "2021-12-09T18:16:41.822594Z",
          "iopub.status.idle": "2021-12-09T18:16:41.827916Z",
          "shell.execute_reply.started": "2021-12-09T18:16:41.822548Z",
          "shell.execute_reply": "2021-12-09T18:16:41.827073Z"
        },
        "trusted": true,
        "id": "z_6ZSt1CBlTp"
      },
      "execution_count": null,
      "outputs": []
    },
    {
      "cell_type": "markdown",
      "source": [
        "# Abrindo o dataset\n",
        "*O dataset a ser utilizado já está tratado e pronto para ser utilizado*"
      ],
      "metadata": {
        "id": "RAARY3hjBlTr"
      }
    },
    {
      "cell_type": "code",
      "source": [
        "df = pd.read_csv('/content/iris.csv')\n",
        "df"
      ],
      "metadata": {
        "execution": {
          "iopub.status.busy": "2021-12-09T18:16:41.829393Z",
          "iopub.execute_input": "2021-12-09T18:16:41.829768Z",
          "iopub.status.idle": "2021-12-09T18:16:41.863197Z",
          "shell.execute_reply.started": "2021-12-09T18:16:41.829727Z",
          "shell.execute_reply": "2021-12-09T18:16:41.862438Z"
        },
        "trusted": true,
        "id": "D-83sVrqBlTs"
      },
      "execution_count": null,
      "outputs": []
    },
    {
      "cell_type": "code",
      "source": [
        "df.drop('Id', axis=1, inplace=True)\n",
        "df"
      ],
      "metadata": {
        "id": "AzIo75ahCaU4"
      },
      "execution_count": null,
      "outputs": []
    },
    {
      "cell_type": "code",
      "source": [
        "df.shape"
      ],
      "metadata": {
        "id": "am09q1Keiqra"
      },
      "execution_count": null,
      "outputs": []
    },
    {
      "cell_type": "markdown",
      "source": [
        "# Separando os dados em features (X) and labels (y)\n",
        "**As features representam os valores (atributos) de um linha e os labels as classificações únicas das linhas**"
      ],
      "metadata": {
        "id": "cV669fSsBlTt"
      }
    },
    {
      "cell_type": "code",
      "source": [
        "# Seleção de features (entradas)\n",
        "X = df.iloc[:,:-1].values #Valores (features)\n",
        "X"
      ],
      "metadata": {
        "id": "tXAlnYioD4nd"
      },
      "execution_count": null,
      "outputs": []
    },
    {
      "cell_type": "code",
      "source": [
        "# Seleção da coluna target\n",
        "y = df['Species'] #Espécies (labels)\n",
        "y"
      ],
      "metadata": {
        "execution": {
          "iopub.status.busy": "2021-12-09T18:16:41.864341Z",
          "iopub.execute_input": "2021-12-09T18:16:41.864699Z",
          "iopub.status.idle": "2021-12-09T18:16:41.869048Z",
          "shell.execute_reply.started": "2021-12-09T18:16:41.864658Z",
          "shell.execute_reply": "2021-12-09T18:16:41.868147Z"
        },
        "trusted": true,
        "id": "OZcQWGsBBlTt"
      },
      "execution_count": null,
      "outputs": []
    },
    {
      "cell_type": "markdown",
      "source": [
        "# Separando dados para treinamento e testes"
      ],
      "metadata": {
        "id": "pwaLYV6aBlTu"
      }
    },
    {
      "cell_type": "code",
      "source": [
        "X_train, X_test, y_train, y_test = train_test_split(X, y, test_size=0.20, random_state=27)"
      ],
      "metadata": {
        "execution": {
          "iopub.status.busy": "2021-12-09T18:16:41.885362Z",
          "iopub.execute_input": "2021-12-09T18:16:41.885916Z",
          "iopub.status.idle": "2021-12-09T18:16:41.89862Z",
          "shell.execute_reply.started": "2021-12-09T18:16:41.885875Z",
          "shell.execute_reply": "2021-12-09T18:16:41.898006Z"
        },
        "trusted": true,
        "id": "MlurHWzHBlTv"
      },
      "execution_count": null,
      "outputs": []
    },
    {
      "cell_type": "code",
      "source": [
        "X_train.shape"
      ],
      "metadata": {
        "id": "VVjO26GGETvg"
      },
      "execution_count": null,
      "outputs": []
    },
    {
      "cell_type": "code",
      "source": [
        "X_test.shape"
      ],
      "metadata": {
        "id": "ff36THeJEWV9"
      },
      "execution_count": null,
      "outputs": []
    },
    {
      "cell_type": "code",
      "source": [
        "y_train.shape"
      ],
      "metadata": {
        "id": "SA2tX_dNlisz"
      },
      "execution_count": null,
      "outputs": []
    },
    {
      "cell_type": "code",
      "source": [
        "y_test.shape"
      ],
      "metadata": {
        "id": "OYXPjir-loTd"
      },
      "execution_count": null,
      "outputs": []
    },
    {
      "cell_type": "markdown",
      "source": [
        "# Treinando os modelos (método fit)"
      ],
      "metadata": {
        "id": "8_OyqYVuBlTw"
      }
    },
    {
      "cell_type": "code",
      "source": [
        "# https://scikit-learn.org/stable/modules/generated/sklearn.svm.SVC.html\n",
        "SVC_model = SVC()\n"
      ],
      "metadata": {
        "execution": {
          "iopub.status.busy": "2021-12-09T18:16:41.899618Z",
          "iopub.execute_input": "2021-12-09T18:16:41.900288Z",
          "iopub.status.idle": "2021-12-09T18:16:41.915725Z",
          "shell.execute_reply.started": "2021-12-09T18:16:41.900242Z",
          "shell.execute_reply": "2021-12-09T18:16:41.914681Z"
        },
        "trusted": true,
        "id": "oshvv6FaBlTw"
      },
      "execution_count": null,
      "outputs": []
    },
    {
      "cell_type": "code",
      "source": [
        "SVC_model.fit(X_train, y_train)"
      ],
      "metadata": {
        "id": "AdksQWa0mRt7"
      },
      "execution_count": null,
      "outputs": []
    },
    {
      "cell_type": "code",
      "source": [
        "# https://scikit-learn.org/stable/modules/generated/sklearn.neighbors.KNeighborsClassifier.html\n",
        "KNN_model = KNeighborsClassifier(n_neighbors=5)\n",
        "KNN_model.fit(X_train, y_train)"
      ],
      "metadata": {
        "id": "q6QETgnHEkbJ"
      },
      "execution_count": null,
      "outputs": []
    },
    {
      "cell_type": "markdown",
      "source": [
        "# Testando os modelos (método predict)"
      ],
      "metadata": {
        "id": "BJ13U1LvBlTx"
      }
    },
    {
      "cell_type": "code",
      "source": [
        "# Método Predict\n",
        "SVC_prediction = SVC_model.predict(X_test)"
      ],
      "metadata": {
        "execution": {
          "iopub.status.busy": "2021-12-09T18:16:41.916958Z",
          "iopub.execute_input": "2021-12-09T18:16:41.917183Z",
          "iopub.status.idle": "2021-12-09T18:16:41.92968Z",
          "shell.execute_reply.started": "2021-12-09T18:16:41.917156Z",
          "shell.execute_reply": "2021-12-09T18:16:41.929005Z"
        },
        "trusted": true,
        "id": "XaBkGWAMBlTx"
      },
      "execution_count": null,
      "outputs": []
    },
    {
      "cell_type": "code",
      "source": [],
      "metadata": {
        "id": "nTdPFX-SnmvN"
      },
      "execution_count": null,
      "outputs": []
    },
    {
      "cell_type": "code",
      "source": [
        "y_test"
      ],
      "metadata": {
        "id": "cmDkJgD1nmB5"
      },
      "execution_count": null,
      "outputs": []
    },
    {
      "cell_type": "code",
      "source": [
        "SVC_prediction"
      ],
      "metadata": {
        "id": "M3hFyvQgEsID"
      },
      "execution_count": null,
      "outputs": []
    },
    {
      "cell_type": "code",
      "source": [
        "KNN_prediction = KNN_model.predict(X_test)"
      ],
      "metadata": {
        "id": "3Ndd3Jh8EpIE"
      },
      "execution_count": null,
      "outputs": []
    },
    {
      "cell_type": "code",
      "source": [
        "KNN_prediction"
      ],
      "metadata": {
        "id": "em19_NfXEvpJ"
      },
      "execution_count": null,
      "outputs": []
    },
    {
      "cell_type": "markdown",
      "source": [
        "# Mostrando resultados"
      ],
      "metadata": {
        "id": "NtHKbC_4BlTy"
      }
    },
    {
      "cell_type": "markdown",
      "source": [
        "## Algoritmo SVC"
      ],
      "metadata": {
        "id": "XLGtTu34BlTy"
      }
    },
    {
      "cell_type": "markdown",
      "source": [
        "### Acurácia (accuracy)"
      ],
      "metadata": {
        "id": "K1KMpFyKBlTy"
      }
    },
    {
      "cell_type": "code",
      "source": [
        "acuracia_svc = (accuracy_score(SVC_prediction, y_test)*100)"
      ],
      "metadata": {
        "execution": {
          "iopub.status.busy": "2021-12-09T18:16:41.930686Z",
          "iopub.execute_input": "2021-12-09T18:16:41.930959Z",
          "iopub.status.idle": "2021-12-09T18:16:41.9406Z",
          "shell.execute_reply.started": "2021-12-09T18:16:41.93093Z",
          "shell.execute_reply": "2021-12-09T18:16:41.939703Z"
        },
        "trusted": true,
        "id": "G3mMjartBlTz"
      },
      "execution_count": null,
      "outputs": []
    },
    {
      "cell_type": "code",
      "source": [
        "print(f'Acurácia do modelo SVC: {acuracia_svc: .2f} %')"
      ],
      "metadata": {
        "id": "V1L-wTrjFDjY"
      },
      "execution_count": null,
      "outputs": []
    },
    {
      "cell_type": "markdown",
      "source": [
        "### Confusion Matrix"
      ],
      "metadata": {
        "id": "fVXEFIsPBlT0"
      }
    },
    {
      "cell_type": "code",
      "source": [
        "print(confusion_matrix(SVC_prediction, y_test))"
      ],
      "metadata": {
        "execution": {
          "iopub.status.busy": "2021-12-09T18:16:41.942133Z",
          "iopub.execute_input": "2021-12-09T18:16:41.943078Z",
          "iopub.status.idle": "2021-12-09T18:16:41.960191Z",
          "shell.execute_reply.started": "2021-12-09T18:16:41.943037Z",
          "shell.execute_reply": "2021-12-09T18:16:41.959242Z"
        },
        "trusted": true,
        "id": "tY2YFamHBlT0"
      },
      "execution_count": null,
      "outputs": []
    },
    {
      "cell_type": "markdown",
      "source": [
        "### Relatório de classificação"
      ],
      "metadata": {
        "id": "zHVEN_R8BlT1"
      }
    },
    {
      "cell_type": "code",
      "source": [
        "print(classification_report(SVC_prediction, y_test))"
      ],
      "metadata": {
        "execution": {
          "iopub.status.busy": "2021-12-09T18:16:41.96319Z",
          "iopub.execute_input": "2021-12-09T18:16:41.963649Z",
          "iopub.status.idle": "2021-12-09T18:16:41.976234Z",
          "shell.execute_reply.started": "2021-12-09T18:16:41.96361Z",
          "shell.execute_reply": "2021-12-09T18:16:41.975288Z"
        },
        "trusted": true,
        "id": "WIM2FB3NBlT1"
      },
      "execution_count": null,
      "outputs": []
    },
    {
      "cell_type": "markdown",
      "source": [
        "## Algoritmo KNN"
      ],
      "metadata": {
        "id": "2vLEDoSlBlT2"
      }
    },
    {
      "cell_type": "markdown",
      "source": [
        "### Acurácia (accuracy)\n",
        "*número de previsões corretas dividido pela quantidade de testes*"
      ],
      "metadata": {
        "id": "BGIxPeIXBlT2"
      }
    },
    {
      "cell_type": "code",
      "source": [
        "acuracia_knn = (accuracy_score(KNN_prediction, y_test)*100)"
      ],
      "metadata": {
        "execution": {
          "iopub.status.busy": "2021-12-09T18:16:41.977618Z",
          "iopub.execute_input": "2021-12-09T18:16:41.978293Z",
          "iopub.status.idle": "2021-12-09T18:16:41.985853Z",
          "shell.execute_reply.started": "2021-12-09T18:16:41.97825Z",
          "shell.execute_reply": "2021-12-09T18:16:41.985179Z"
        },
        "trusted": true,
        "id": "PXJuZH2JBlT2"
      },
      "execution_count": null,
      "outputs": []
    },
    {
      "cell_type": "code",
      "source": [
        "print(f'Acurácia do modelo KNN: {acuracia_knn: .2f} %')"
      ],
      "metadata": {
        "id": "oVCEJwJ5GT7W"
      },
      "execution_count": null,
      "outputs": []
    },
    {
      "cell_type": "markdown",
      "source": [
        "### Confusion matrix\n",
        "*A quantidade de previsões corretas por ser encontrada na diagonal principal da matriz*"
      ],
      "metadata": {
        "id": "OSu38o0GBlT3"
      }
    },
    {
      "cell_type": "code",
      "source": [
        "print(confusion_matrix(KNN_prediction, y_test))\n"
      ],
      "metadata": {
        "execution": {
          "iopub.status.busy": "2021-12-09T18:16:41.986972Z",
          "iopub.execute_input": "2021-12-09T18:16:41.987332Z",
          "iopub.status.idle": "2021-12-09T18:16:41.997684Z",
          "shell.execute_reply.started": "2021-12-09T18:16:41.987304Z",
          "shell.execute_reply": "2021-12-09T18:16:41.996805Z"
        },
        "trusted": true,
        "id": "TXs1wB00BlT3"
      },
      "execution_count": null,
      "outputs": []
    },
    {
      "cell_type": "markdown",
      "source": [
        "### Relatório de classificação"
      ],
      "metadata": {
        "id": "hj9RkHSyBlT3"
      }
    },
    {
      "cell_type": "code",
      "source": [
        "print(classification_report(KNN_prediction, y_test))"
      ],
      "metadata": {
        "execution": {
          "iopub.status.busy": "2021-12-09T18:16:41.999207Z",
          "iopub.execute_input": "2021-12-09T18:16:41.999516Z",
          "iopub.status.idle": "2021-12-09T18:16:42.015703Z",
          "shell.execute_reply.started": "2021-12-09T18:16:41.999478Z",
          "shell.execute_reply": "2021-12-09T18:16:42.014919Z"
        },
        "trusted": true,
        "id": "oQxLxvrpBlT4"
      },
      "execution_count": null,
      "outputs": []
    },
    {
      "cell_type": "markdown",
      "source": [
        "# Utilizando os modelos para fazer uma previsão de classificação"
      ],
      "metadata": {
        "id": "PKS-P_5NBlT4"
      }
    },
    {
      "cell_type": "code",
      "source": [
        "xnew = [[6.7, 2.9, 5, 2],[3, 2, 5, 0.3]]\n",
        "ynew = SVC_model.predict(xnew)\n",
        "ynew"
      ],
      "metadata": {
        "execution": {
          "iopub.status.busy": "2021-12-09T18:19:57.282178Z",
          "iopub.execute_input": "2021-12-09T18:19:57.282736Z",
          "iopub.status.idle": "2021-12-09T18:19:57.290257Z",
          "shell.execute_reply.started": "2021-12-09T18:19:57.282691Z",
          "shell.execute_reply": "2021-12-09T18:19:57.289692Z"
        },
        "trusted": true,
        "id": "hz-ZQvREBlT5"
      },
      "execution_count": null,
      "outputs": []
    },
    {
      "cell_type": "code",
      "source": [
        "xnew = [[6.7, 2.9, 5, 2],[3, 2, 5, 0.3]]\n",
        "ynew = KNN_model.predict(xnew)\n",
        "ynew"
      ],
      "metadata": {
        "execution": {
          "iopub.status.busy": "2021-12-09T18:20:32.493098Z",
          "iopub.execute_input": "2021-12-09T18:20:32.493379Z",
          "iopub.status.idle": "2021-12-09T18:20:32.501547Z",
          "shell.execute_reply.started": "2021-12-09T18:20:32.493353Z",
          "shell.execute_reply": "2021-12-09T18:20:32.500735Z"
        },
        "trusted": true,
        "id": "uE_iV06UBlT5"
      },
      "execution_count": null,
      "outputs": []
    },
    {
      "cell_type": "markdown",
      "source": [
        "# REFERÊNCIAS\n",
        "\n",
        "* https://scikit-learn.org/stable/tutorial/basic/tutorial.html\n",
        "* https://stackabuse.com/overview-of-classification-methods-in-python-with-scikit-learn/\n",
        "* https://scikit-learn.org/stable/auto_examples/model_selection/plot_confusion_matrix.html\n",
        "* https://scikit-learn.org/stable/modules/classes.html#module-sklearn.datasets\n",
        "* https://stackabuse.com/scikit-learns-traintestsplit-training-testing-and-validation-sets/\n",
        "* https://www.scielo.br/j/ea/a/wXBdv8yHBV9xHz8qG5RCgZd/#"
      ],
      "metadata": {
        "id": "Tx4cWzinBlT5"
      }
    }
  ]
}