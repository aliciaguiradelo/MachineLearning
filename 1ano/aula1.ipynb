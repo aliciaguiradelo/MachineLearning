{
  "nbformat": 4,
  "nbformat_minor": 0,
  "metadata": {
    "colab": {
      "provenance": [],
      "authorship_tag": "ABX9TyNQuDJHmzHAvGS13nfvJx0h",
      "include_colab_link": true
    },
    "kernelspec": {
      "name": "python3",
      "display_name": "Python 3"
    },
    "language_info": {
      "name": "python"
    }
  },
  "cells": [
    {
      "cell_type": "markdown",
      "metadata": {
        "id": "view-in-github",
        "colab_type": "text"
      },
      "source": [
        "<a href=\"https://colab.research.google.com/github/aliciaguiradelo/MachineLearning/blob/main/aula1.ipynb\" target=\"_parent\"><img src=\"https://colab.research.google.com/assets/colab-badge.svg\" alt=\"Open In Colab\"/></a>"
      ]
    },
    {
      "cell_type": "code",
      "source": [
        " #Lista com números\n",
        " numbers = [1, 2, 3, 4, 5, 6, 7, 8, 9, 10]\n",
        "\n",
        "#Usando o método sort. Organiza do menor para o maior\n",
        " numbers.sort()\n",
        "\n",
        " print(numbers)"
      ],
      "metadata": {
        "colab": {
          "base_uri": "https://localhost:8080/"
        },
        "id": "nHpSrGkve1Ld",
        "outputId": "256b5310-df1e-42ae-ff44-06133cd0c27d"
      },
      "execution_count": null,
      "outputs": [
        {
          "output_type": "stream",
          "name": "stdout",
          "text": [
            "[1, 2, 3, 4, 5, 6, 7, 8, 9, 10]\n"
          ]
        }
      ]
    },
    {
      "cell_type": "code",
      "source": [
        "  #Lista com números\n",
        " numbers = [1, 2, 3, 4, 5, 6, 7, 8, 9, 10]\n",
        "\n",
        "#Usando o método sort e atributo reverse. Organiza do maior para o menor.\n",
        " numbers.sort(reverse = True)\n",
        "\n",
        " print(numbers)"
      ],
      "metadata": {
        "colab": {
          "base_uri": "https://localhost:8080/"
        },
        "id": "cthH8iryfrdZ",
        "outputId": "859a4cd3-d79c-4660-cc39-665d987bd465"
      },
      "execution_count": null,
      "outputs": [
        {
          "output_type": "stream",
          "name": "stdout",
          "text": [
            "[10, 9, 8, 7, 6, 5, 4, 3, 2, 1]\n"
          ]
        }
      ]
    },
    {
      "cell_type": "code",
      "source": [
        "  #Lista com números\n",
        "  numbers = [1, 2, 3, 4, 5, 6, 7, 8, 9, 10]\n",
        "  order_numbers = []\n",
        "\n",
        "  while numbers:\n",
        "    max_numbers = numbers[0]\n",
        "    for num in numbers:\n",
        "      if num > max_numbers:\n",
        "        max_numbers = num\n",
        "      #print(numbers)\n",
        "      #print(order_numbers)\n",
        "    order_numbers.append(max_numbers)\n",
        "    numbers.remove(max_numbers)\n",
        "  print(numbers)\n",
        "  print(order_numbers)"
      ],
      "metadata": {
        "id": "EXHk0Fcd-qo_"
      },
      "execution_count": null,
      "outputs": []
    },
    {
      "cell_type": "code",
      "source": [
        "#Lista com números\n",
        "numbers = [1, 2, 3, 4, 5, 6, 7, 8, 9, 10]\n",
        "order_numbers = []\n",
        "\n",
        "while numbers:\n",
        "  min_numbers = numbers[0]\n",
        "  for num in numbers:\n",
        "    if num < min_numbers:\n",
        "      min_numbers = num\n",
        "    #print(numbers)\n",
        "    #print(order_numbers)\n",
        "  order_numbers.append(min_numbers)\n",
        "  numbers.remove(min_numbers)\n",
        "print(numbers)\n",
        "print(order_numbers)"
      ],
      "metadata": {
        "colab": {
          "base_uri": "https://localhost:8080/"
        },
        "id": "zwpBzT1lBuBi",
        "outputId": "5dab5bec-403b-4901-ff4f-b0cb818c1852"
      },
      "execution_count": 9,
      "outputs": [
        {
          "output_type": "stream",
          "name": "stdout",
          "text": [
            "[]\n",
            "[1, 2, 3, 4, 5, 6, 7, 8, 9, 10]\n"
          ]
        }
      ]
    }
  ]
}